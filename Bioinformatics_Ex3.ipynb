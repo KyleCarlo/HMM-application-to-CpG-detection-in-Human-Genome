{
 "cells": [
  {
   "cell_type": "code",
   "execution_count": 4,
   "id": "b8396d7d-5b0b-4e47-9f9c-1c578a7f0c6e",
   "metadata": {},
   "outputs": [
    {
     "name": "stdout",
     "output_type": "stream",
     "text": [
      "Defaulting to user installation because normal site-packages is not writeable\n",
      "Collecting biopython\n",
      "  Downloading biopython-1.85-cp312-cp312-win_amd64.whl.metadata (13 kB)\n",
      "Requirement already satisfied: numpy in c:\\programdata\\anaconda3\\lib\\site-packages (from biopython) (1.26.4)\n",
      "Downloading biopython-1.85-cp312-cp312-win_amd64.whl (2.8 MB)\n",
      "   ---------------------------------------- 0.0/2.8 MB ? eta -:--:--\n",
      "   -------------- ------------------------- 1.0/2.8 MB 8.5 MB/s eta 0:00:01\n",
      "   -------------------------- ------------- 1.8/2.8 MB 3.5 MB/s eta 0:00:01\n",
      "   ----------------------------- ---------- 2.1/2.8 MB 3.8 MB/s eta 0:00:01\n",
      "   ---------------------------------------- 2.8/2.8 MB 3.2 MB/s eta 0:00:00\n",
      "Installing collected packages: biopython\n",
      "Successfully installed biopython-1.85\n"
     ]
    }
   ],
   "source": [
    "!pip install biopython"
   ]
  },
  {
   "cell_type": "code",
   "execution_count": 24,
   "id": "bb730d12-b431-43aa-a2ab-df3888ba9089",
   "metadata": {},
   "outputs": [],
   "source": [
    "import pandas as pd\n",
    "from Bio import SeqIO"
   ]
  },
  {
   "cell_type": "code",
   "execution_count": 150,
   "id": "5b0c53c6-7f3b-477c-9a0b-cb00c9a7ca3d",
   "metadata": {},
   "outputs": [],
   "source": [
    "def read_fasta(file_path, filter_header=None):\n",
    "    sequences = ''\n",
    "    for record in SeqIO.parse(file_path, \"fasta\"):\n",
    "        if filter_header and filter_header not in record.id:\n",
    "            continue\n",
    "        sequences = record.seq\n",
    "    return sequences\n",
    "\n",
    "def read_centro_telo(file_path_centro, file_path_telo, file_path_cpg):\n",
    "    centro = pd.read_csv(file_path_centro)\n",
    "    centro.drop('#\"bin\"', axis=1, inplace=True)\n",
    "    \n",
    "    telo = pd.read_csv(file_path_telo)\n",
    "    telo.drop('#bin', axis=1, inplace=True)\n",
    "    telo = telo[telo['type'] == 'telomere']\n",
    "    \n",
    "    cpg = pd.read_csv(file_path_cpg)\n",
    "    cpg.drop('#\"bin\"', axis=1, inplace=True)\n",
    "    \n",
    "    return centro, telo, cpg\n",
    "\n",
    "def check_overlap(centro, telo, cpg):\n",
    "    telo.sort_values('chromStart', inplace=True)\n",
    "    # print(\"Starting Telomere\")\n",
    "    # print(f'({telo[['chromStart', 'chromEnd']].iloc[0, 0]},{telo[['chromStart', 'chromEnd']].iloc[0, 1]})')\n",
    "    # print(\"Ending Telomere\")\n",
    "    # print(f'({telo[['chromStart', 'chromEnd']].iloc[1, 0]},{telo[['chromStart', 'chromEnd']].iloc[1, 1]})')\n",
    "    \n",
    "    start_telo = telo[['chromStart', 'chromEnd']].iloc[0, 1]\n",
    "    end_telo = telo[['chromStart', 'chromEnd']].iloc[1, 0]\n",
    "\n",
    "    if len(cpg[cpg['chromStart'] < start_telo]) > 0 or len(cpg[cpg['chromEnd'] > end_telo]) > 0:\n",
    "        print(\"There is a CpG island overlapping with Telomeric regions.\")\n",
    "    else:\n",
    "        print(\"There is NO overlapping CpG island with Telomeric regions.\")\n",
    "        \n",
    "    centro.sort_values('chromStart', inplace=True)\n",
    "    min_centro = centro[['chromStart','chromEnd']].iloc[0,0]\n",
    "    max_centro = centro[['chromStart','chromEnd']].iloc[len(centro)-1, 1]\n",
    "\n",
    "    if len(cpg[(cpg['chromStart'] > min_centro) & (cpg['chromEnd'] < max_centro)]) > 0:\n",
    "        print(\"Do a manual inspection because there is a CpG island in between the Centromeric regions.\")\n",
    "    else:\n",
    "        print(\"There is NO overlapping CpG island with Centromeric regions.\")"
   ]
  },
  {
   "cell_type": "code",
   "execution_count": 8,
   "id": "9446a2b9-faa9-4d9a-a188-7e46431eaafb",
   "metadata": {},
   "outputs": [],
   "source": [
    "seq = read_fasta('./GRCh38.p14.genome.fa', 'chr18')"
   ]
  },
  {
   "cell_type": "code",
   "execution_count": 87,
   "id": "9de5c7b0-8838-418b-bc63-6147592c5cdc",
   "metadata": {},
   "outputs": [],
   "source": [
    "centro18_df, telo18_df, cpg18_df = read_centro_telo('./chr18/centromeres.csv','./chr18/telomeres.csv', './chr18/cpg.csv')\n",
    "centro19_df, telo19_df, cpg19_df = read_centro_telo('./chr19/centromeres.csv','./chr19/telomeres.csv', './chr19/cpg.csv')"
   ]
  },
  {
   "cell_type": "code",
   "execution_count": 151,
   "id": "52077405-e395-4ace-b285-7277314ec512",
   "metadata": {},
   "outputs": [
    {
     "name": "stdout",
     "output_type": "stream",
     "text": [
      "There is NO overlapping CpG island with Telomeric regions.\n",
      "There is NO overlapping CpG island with Centromeric regions.\n"
     ]
    }
   ],
   "source": [
    "check_overlap(centro18_df, telo18_df, cpg18_df)"
   ]
  },
  {
   "cell_type": "code",
   "execution_count": 152,
   "id": "6880daa7-b74f-4830-895e-0725255a141c",
   "metadata": {},
   "outputs": [
    {
     "name": "stdout",
     "output_type": "stream",
     "text": [
      "There is NO overlapping CpG island with Telomeric regions.\n",
      "There is NO overlapping CpG island with Centromeric regions.\n"
     ]
    }
   ],
   "source": [
    "check_overlap(centro19_df, telo19_df, cpg19_df)"
   ]
  },
  {
   "cell_type": "code",
   "execution_count": 160,
   "id": "b57ae790-d94c-4698-b438-06677276b783",
   "metadata": {},
   "outputs": [
    {
     "name": "stdout",
     "output_type": "stream",
     "text": [
      "CGGGCCCCTGGGCCACGCCCACTCCCCCAAGCGGGGAAGGAGCTTCGCGCTGCCGCTTGGCTGGGGACTGGGCACCGCCCTCCCGCGGCTCCTGAGCCGGCTGCCACCAGGGGTGCGCGCCAGCGGTGTCCGGGAGCCTAGCGGCGCGTGTGCAGCGGCCAGTGCACCTGCTCTGGCCCTCGCCGCGGTCTCTGCCAGGACCCCGACGCCCAGCCTGACCCTGCCATTCAGCGGGGCTGCGGCTCCACGGCCTGCGACAGCAGCCCCACCTGGCATTCAGCGCGCTCCCGGGGGCAGAGGTCGCGGTGTCCTCACGCTGTGGTGCCGGCCTACAACCCCCACGCCGGGCTCGGGCCCGGCGGAGGAGGGCGATGCTCCCCGGGTAGGACAAACCGGTCACCTGGGCTGCGAGGGCGGCTTAGGGGCAGAAGCGGCGGTCCAGGGCCGCCTGGCGCAGCAGCCTGTCCCAGCCGCGGTCCCTGCAGTCCCTCCCTGGCGGCTGCGCAGCCGTCCCACGACAGGGGCCATAAACTCTCCAGAGCGGAAAGCCGCACCCTGGTGGCCCGGCCCCGCGCCCAGACCTGGCGGCCGCTGGCACCTGACCCGCTGCATGGGTCTCCAGGGAGCTCGCTGCCCACCCGGCGCTGCAGGCTCGGCTCCCTCG\n"
     ]
    }
   ],
   "source": [
    "cpg_islands = []\n",
    "for each in cpg18_df.sort_values('chromStart')[['chromStart', 'chromEnd']].itertuples():\n",
    "    _, start, end = each\n",
    "    print(seq[start: end])\n",
    "    break"
   ]
  },
  {
   "cell_type": "code",
   "execution_count": null,
   "id": "836412bd-fe6c-4759-9d8c-8e7d2d2c928c",
   "metadata": {},
   "outputs": [],
   "source": []
  }
 ],
 "metadata": {
  "kernelspec": {
   "display_name": "Python 3 (ipykernel)",
   "language": "python",
   "name": "python3"
  },
  "language_info": {
   "codemirror_mode": {
    "name": "ipython",
    "version": 3
   },
   "file_extension": ".py",
   "mimetype": "text/x-python",
   "name": "python",
   "nbconvert_exporter": "python",
   "pygments_lexer": "ipython3",
   "version": "3.12.7"
  }
 },
 "nbformat": 4,
 "nbformat_minor": 5
}
