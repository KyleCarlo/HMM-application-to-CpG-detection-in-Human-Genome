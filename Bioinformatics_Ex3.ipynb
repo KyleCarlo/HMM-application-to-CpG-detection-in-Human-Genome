{
 "cells": [
  {
   "cell_type": "code",
   "execution_count": null,
   "id": "b8396d7d-5b0b-4e47-9f9c-1c578a7f0c6e",
   "metadata": {},
   "outputs": [
    {
     "name": "stdout",
     "output_type": "stream",
     "text": [
      "Defaulting to user installation because normal site-packages is not writeable\n",
      "Collecting biopython\n",
      "  Downloading biopython-1.85-cp312-cp312-win_amd64.whl.metadata (13 kB)\n",
      "Requirement already satisfied: numpy in c:\\programdata\\anaconda3\\lib\\site-packages (from biopython) (1.26.4)\n",
      "Downloading biopython-1.85-cp312-cp312-win_amd64.whl (2.8 MB)\n",
      "   ---------------------------------------- 0.0/2.8 MB ? eta -:--:--\n",
      "   -------------- ------------------------- 1.0/2.8 MB 8.5 MB/s eta 0:00:01\n",
      "   -------------------------- ------------- 1.8/2.8 MB 3.5 MB/s eta 0:00:01\n",
      "   ----------------------------- ---------- 2.1/2.8 MB 3.8 MB/s eta 0:00:01\n",
      "   ---------------------------------------- 2.8/2.8 MB 3.2 MB/s eta 0:00:00\n",
      "Installing collected packages: biopython\n",
      "Successfully installed biopython-1.85\n"
     ]
    }
   ],
   "source": [
    "# !pip install biopython"
   ]
  },
  {
   "cell_type": "code",
   "execution_count": 1,
   "id": "bb730d12-b431-43aa-a2ab-df3888ba9089",
   "metadata": {},
   "outputs": [],
   "source": [
    "import pandas as pd\n",
    "import numpy as np\n",
    "from Bio import SeqIO"
   ]
  },
  {
   "cell_type": "code",
   "execution_count": 2,
   "id": "5b0c53c6-7f3b-477c-9a0b-cb00c9a7ca3d",
   "metadata": {},
   "outputs": [],
   "source": [
    "def read_fasta(file_path, filter_header=None):\n",
    "    sequences = ''\n",
    "    for record in SeqIO.parse(file_path, \"fasta\"):\n",
    "        if filter_header and filter_header not in record.id:\n",
    "            continue\n",
    "        sequences = record.seq\n",
    "    return sequences\n",
    "\n",
    "def read_centro_telo(file_path_centro, file_path_telo, file_path_cpg):\n",
    "    centro = pd.read_csv(file_path_centro)\n",
    "    centro.drop('#\"bin\"', axis=1, inplace=True)\n",
    "    \n",
    "    telo = pd.read_csv(file_path_telo)\n",
    "    telo.drop('#bin', axis=1, inplace=True)\n",
    "    telo = telo[telo['type'] == 'telomere']\n",
    "    \n",
    "    cpg = pd.read_csv(file_path_cpg)\n",
    "    cpg.drop('#\"bin\"', axis=1, inplace=True)\n",
    "    \n",
    "    return centro, telo, cpg\n",
    "\n",
    "def check_overlap(centro, telo, cpg):\n",
    "    telo.sort_values('chromStart', inplace=True)\n",
    "    # print(\"Starting Telomere\")\n",
    "    # print(f'({telo[['chromStart', 'chromEnd']].iloc[0, 0]},{telo[['chromStart', 'chromEnd']].iloc[0, 1]})')\n",
    "    # print(\"Ending Telomere\")\n",
    "    # print(f'({telo[['chromStart', 'chromEnd']].iloc[1, 0]},{telo[['chromStart', 'chromEnd']].iloc[1, 1]})')\n",
    "    \n",
    "    start_telo = telo[['chromStart', 'chromEnd']].iloc[0, 1]\n",
    "    end_telo = telo[['chromStart', 'chromEnd']].iloc[1, 0]\n",
    "\n",
    "    if len(cpg[cpg['chromStart'] < start_telo]) > 0 or len(cpg[cpg['chromEnd'] > end_telo]) > 0:\n",
    "        print(\"There is a CpG island overlapping with Telomeric regions.\")\n",
    "    else:\n",
    "        print(\"There is NO overlapping CpG island with Telomeric regions.\")\n",
    "        \n",
    "    centro.sort_values('chromStart', inplace=True)\n",
    "    min_centro = centro[['chromStart','chromEnd']].iloc[0,0]\n",
    "    max_centro = centro[['chromStart','chromEnd']].iloc[len(centro)-1, 1]\n",
    "\n",
    "    if len(cpg[(cpg['chromStart'] > min_centro) & (cpg['chromEnd'] < max_centro)]) > 0:\n",
    "        print(\"Do a manual inspection because there is a CpG island in between the Centromeric regions.\")\n",
    "    else:\n",
    "        print(\"There is NO overlapping CpG island with Centromeric regions.\")"
   ]
  },
  {
   "cell_type": "code",
   "execution_count": 3,
   "id": "9446a2b9-faa9-4d9a-a188-7e46431eaafb",
   "metadata": {},
   "outputs": [],
   "source": [
    "seq = read_fasta('./GRCh38.p14.genome.fa', 'chr18')"
   ]
  },
  {
   "cell_type": "code",
   "execution_count": 4,
   "id": "9de5c7b0-8838-418b-bc63-6147592c5cdc",
   "metadata": {},
   "outputs": [],
   "source": [
    "centro18_df, telo18_df, cpg18_df = read_centro_telo('./chr18/centromeres.csv','./chr18/telomeres.csv', './chr18/cpg.csv')\n",
    "centro19_df, telo19_df, cpg19_df = read_centro_telo('./chr19/centromeres.csv','./chr19/telomeres.csv', './chr19/cpg.csv')"
   ]
  },
  {
   "cell_type": "code",
   "execution_count": 5,
   "id": "52077405-e395-4ace-b285-7277314ec512",
   "metadata": {},
   "outputs": [
    {
     "name": "stdout",
     "output_type": "stream",
     "text": [
      "There is NO overlapping CpG island with Telomeric regions.\n",
      "There is NO overlapping CpG island with Centromeric regions.\n"
     ]
    }
   ],
   "source": [
    "check_overlap(centro18_df, telo18_df, cpg18_df)"
   ]
  },
  {
   "cell_type": "code",
   "execution_count": 6,
   "id": "6880daa7-b74f-4830-895e-0725255a141c",
   "metadata": {},
   "outputs": [
    {
     "name": "stdout",
     "output_type": "stream",
     "text": [
      "There is NO overlapping CpG island with Telomeric regions.\n",
      "There is NO overlapping CpG island with Centromeric regions.\n"
     ]
    }
   ],
   "source": [
    "check_overlap(centro19_df, telo19_df, cpg19_df)"
   ]
  },
  {
   "cell_type": "code",
   "execution_count": 7,
   "id": "3cc16855-0600-447c-8818-53340ab1a7f9",
   "metadata": {},
   "outputs": [],
   "source": [
    "def check_in_start_end(i, index, start_end, in_):\n",
    "    if index < len(start_end):\n",
    "        if not in_ and i >= start_end[index]:\n",
    "            return True, index + 1\n",
    "        if in_ and i >= start_end[index]:\n",
    "            return False, index + 1\n",
    "    return in_, index    "
   ]
  },
  {
   "cell_type": "code",
   "execution_count": 9,
   "id": "ae0cae75-0430-459d-853f-b71f5c3c5252",
   "metadata": {},
   "outputs": [
    {
     "ename": "KeyboardInterrupt",
     "evalue": "",
     "output_type": "error",
     "traceback": [
      "\u001b[1;31m---------------------------------------------------------------------------\u001b[0m",
      "\u001b[1;31mKeyboardInterrupt\u001b[0m                         Traceback (most recent call last)",
      "Cell \u001b[1;32mIn[9], line 49\u001b[0m\n\u001b[0;32m     46\u001b[0m     \u001b[38;5;28;01mcontinue\u001b[39;00m\n\u001b[0;32m     48\u001b[0m \u001b[38;5;66;03m# counting the frequency of each Markov States\u001b[39;00m\n\u001b[1;32m---> 49\u001b[0m base_i \u001b[38;5;241m=\u001b[39m \u001b[43mseq\u001b[49m\u001b[43m[\u001b[49m\u001b[43mi\u001b[49m\u001b[43m]\u001b[49m \u001b[38;5;241m+\u001b[39m (\u001b[38;5;124m'\u001b[39m\u001b[38;5;124m+\u001b[39m\u001b[38;5;124m'\u001b[39m \u001b[38;5;28;01mif\u001b[39;00m in_cpg \u001b[38;5;28;01melse\u001b[39;00m \u001b[38;5;124m'\u001b[39m\u001b[38;5;124m-\u001b[39m\u001b[38;5;124m'\u001b[39m)\n\u001b[0;32m     50\u001b[0m init_probs[init_dict[base_i]] \u001b[38;5;241m+\u001b[39m\u001b[38;5;241m=\u001b[39m \u001b[38;5;241m1\u001b[39m\n\u001b[0;32m     52\u001b[0m \u001b[38;5;66;03m# \u001b[39;00m\n",
      "File \u001b[1;32mc:\\Python312\\Lib\\site-packages\\Bio\\Seq.py:523\u001b[0m, in \u001b[0;36m_SeqAbstractBaseClass.__getitem__\u001b[1;34m(self, index)\u001b[0m\n\u001b[0;32m    505\u001b[0m \u001b[38;5;28;01mdef\u001b[39;00m \u001b[38;5;21m__getitem__\u001b[39m(\u001b[38;5;28mself\u001b[39m, index):\n\u001b[0;32m    506\u001b[0m \u001b[38;5;250m    \u001b[39m\u001b[38;5;124;03m\"\"\"Return a subsequence as a single letter or as a sequence object.\u001b[39;00m\n\u001b[0;32m    507\u001b[0m \n\u001b[0;32m    508\u001b[0m \u001b[38;5;124;03m    If the index is an integer, a single letter is returned as a Python\u001b[39;00m\n\u001b[1;32m   (...)\u001b[0m\n\u001b[0;32m    521\u001b[0m \u001b[38;5;124;03m    MutableSeq('ACG')\u001b[39;00m\n\u001b[0;32m    522\u001b[0m \u001b[38;5;124;03m    \"\"\"\u001b[39;00m\n\u001b[1;32m--> 523\u001b[0m     \u001b[38;5;28;01mif\u001b[39;00m \u001b[38;5;28;43misinstance\u001b[39;49m\u001b[43m(\u001b[49m\u001b[43mindex\u001b[49m\u001b[43m,\u001b[49m\u001b[43m \u001b[49m\u001b[43mnumbers\u001b[49m\u001b[38;5;241;43m.\u001b[39;49m\u001b[43mIntegral\u001b[49m\u001b[43m)\u001b[49m:\n\u001b[0;32m    524\u001b[0m         \u001b[38;5;66;03m# Return a single letter as a string\u001b[39;00m\n\u001b[0;32m    525\u001b[0m         \u001b[38;5;28;01mreturn\u001b[39;00m \u001b[38;5;28mchr\u001b[39m(\u001b[38;5;28mself\u001b[39m\u001b[38;5;241m.\u001b[39m_data[index])\n\u001b[0;32m    526\u001b[0m     \u001b[38;5;28;01melse\u001b[39;00m:\n\u001b[0;32m    527\u001b[0m         \u001b[38;5;66;03m# Return the (sub)sequence as another Seq/MutableSeq object\u001b[39;00m\n",
      "File \u001b[1;32m<frozen abc>:119\u001b[0m, in \u001b[0;36m__instancecheck__\u001b[1;34m(cls, instance)\u001b[0m\n",
      "File \u001b[1;32m<frozen abc>:123\u001b[0m, in \u001b[0;36m__subclasscheck__\u001b[1;34m(cls, subclass)\u001b[0m\n",
      "\u001b[1;31mKeyboardInterrupt\u001b[0m: "
     ]
    }
   ],
   "source": [
    "in_cpg = False\n",
    "cpg_index = 0\n",
    "\n",
    "in_centro = False\n",
    "centro_index = 0\n",
    "\n",
    "in_telo = False\n",
    "telo_index = 0\n",
    "\n",
    "telo_start_end = telo18_df.sort_values('chromStart')[['chromStart', 'chromEnd']].to_numpy().flatten()\n",
    "centro_start_end = centro18_df.sort_values('chromStart')[['chromStart', 'chromEnd']].to_numpy().flatten()\n",
    "cpg_start_end = cpg18_df.sort_values('chromStart')[['chromStart', 'chromEnd']].to_numpy().flatten()\n",
    "\n",
    "# Format: A-, G-, C-, T-, A+, G+, C+, T+\n",
    "init_probs = np.zeros(8)\n",
    "emit_probs = np.concatenate([np.eye(4), np.eye(4)])\n",
    "tran_probs = np.zeros((8,8))\n",
    "\n",
    "init_dict = {\n",
    "    'A-': 0,\n",
    "    'G-': 1,\n",
    "    'C-': 2,\n",
    "    'T-': 3,\n",
    "    'A+': 4,\n",
    "    'G+': 5,\n",
    "    'C+': 6,\n",
    "    'T+': 7,\n",
    "}\n",
    "\n",
    "for i in range(len(seq)):\n",
    "    # check if in telomeric region\n",
    "    in_telo, telo_index = check_in_start_end(i, telo_index, telo_start_end, in_telo)\n",
    "    if in_telo:\n",
    "        continue\n",
    "\n",
    "    # check if in centromeric region\n",
    "    in_centro, centro_index = check_in_start_end(i, centro_index, centro_start_end, in_centro)\n",
    "    if in_centro:\n",
    "        continue\n",
    "\n",
    "    # check if in CpG island\n",
    "    in_cpg, cpg_index = check_in_start_end(i, cpg_index, cpg_start_end, in_cpg)\n",
    "\n",
    "    # avoid ambiguous bases N\n",
    "    if seq[i] == 'N':\n",
    "        continue\n",
    "\n",
    "    # counting the frequency of each Markov States\n",
    "    base_i = seq[i] + ('+' if in_cpg else '-')\n",
    "    init_probs[init_dict[base_i]] += 1\n",
    "\n",
    "    # check if next index in telomeric region\n",
    "    if i + 1 < len(seq):\n",
    "        in_telo_next, telo_index = check_in_start_end(i + 1, telo_index, telo_start_end, in_telo)\n",
    "        if in_telo_next:\n",
    "            continue\n",
    "\n",
    "        # check if next index in centromeric region\n",
    "        in_centro_next, centro_index = check_in_start_end(i + 1, centro_index, centro_start_end, in_centro)\n",
    "        if in_centro_next:\n",
    "            continue\n",
    "\n",
    "        # check if next index in CpG island\n",
    "        in_cpg_next, cpg_index = check_in_start_end(i + 1, cpg_index, cpg_start_end, in_cpg)\n",
    "\n",
    "        base_i_next = seq[i + 1] + ('+' if in_cpg_next else '-')\n",
    "        emit_probs[init_dict[base_i], init_dict[base_i_next]] += 1\n"
   ]
  },
  {
   "cell_type": "code",
   "execution_count": null,
   "id": "57889ede-7b40-4696-90e2-88a700eb1631",
   "metadata": {},
   "outputs": [],
   "source": []
  },
  {
   "cell_type": "code",
   "execution_count": null,
   "id": "b31c0fc0-152d-4af4-a388-cf421291edaf",
   "metadata": {},
   "outputs": [],
   "source": []
  }
 ],
 "metadata": {
  "kernelspec": {
   "display_name": "Python 3",
   "language": "python",
   "name": "python3"
  },
  "language_info": {
   "codemirror_mode": {
    "name": "ipython",
    "version": 3
   },
   "file_extension": ".py",
   "mimetype": "text/x-python",
   "name": "python",
   "nbconvert_exporter": "python",
   "pygments_lexer": "ipython3",
   "version": "3.12.3"
  }
 },
 "nbformat": 4,
 "nbformat_minor": 5
}
