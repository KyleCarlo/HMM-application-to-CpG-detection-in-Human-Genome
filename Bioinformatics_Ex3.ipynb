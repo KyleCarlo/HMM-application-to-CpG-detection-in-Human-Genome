{
 "cells": [
  {
   "cell_type": "code",
   "execution_count": null,
   "id": "b8396d7d-5b0b-4e47-9f9c-1c578a7f0c6e",
   "metadata": {},
   "outputs": [
    {
     "name": "stdout",
     "output_type": "stream",
     "text": [
      "Defaulting to user installation because normal site-packages is not writeable\n",
      "Collecting biopython\n",
      "  Downloading biopython-1.85-cp312-cp312-win_amd64.whl.metadata (13 kB)\n",
      "Requirement already satisfied: numpy in c:\\programdata\\anaconda3\\lib\\site-packages (from biopython) (1.26.4)\n",
      "Downloading biopython-1.85-cp312-cp312-win_amd64.whl (2.8 MB)\n",
      "   ---------------------------------------- 0.0/2.8 MB ? eta -:--:--\n",
      "   -------------- ------------------------- 1.0/2.8 MB 8.5 MB/s eta 0:00:01\n",
      "   -------------------------- ------------- 1.8/2.8 MB 3.5 MB/s eta 0:00:01\n",
      "   ----------------------------- ---------- 2.1/2.8 MB 3.8 MB/s eta 0:00:01\n",
      "   ---------------------------------------- 2.8/2.8 MB 3.2 MB/s eta 0:00:00\n",
      "Installing collected packages: biopython\n",
      "Successfully installed biopython-1.85\n"
     ]
    }
   ],
   "source": [
    "# !pip install biopython"
   ]
  },
  {
   "cell_type": "code",
   "execution_count": 2,
   "id": "fbe812dd",
   "metadata": {},
   "outputs": [
    {
     "name": "stdout",
     "output_type": "stream",
     "text": [
      "Collecting hmmlearn\n",
      "  Downloading hmmlearn-0.3.3-cp312-cp312-win_amd64.whl.metadata (3.1 kB)\n",
      "Requirement already satisfied: numpy>=1.10 in c:\\python312\\lib\\site-packages (from hmmlearn) (1.26.1)\n",
      "Requirement already satisfied: scikit-learn!=0.22.0,>=0.16 in c:\\python312\\lib\\site-packages (from hmmlearn) (1.5.2)\n",
      "Requirement already satisfied: scipy>=0.19 in c:\\python312\\lib\\site-packages (from hmmlearn) (1.13.1)\n",
      "Requirement already satisfied: joblib>=1.2.0 in c:\\python312\\lib\\site-packages (from scikit-learn!=0.22.0,>=0.16->hmmlearn) (1.4.2)\n",
      "Requirement already satisfied: threadpoolctl>=3.1.0 in c:\\python312\\lib\\site-packages (from scikit-learn!=0.22.0,>=0.16->hmmlearn) (3.5.0)\n",
      "Downloading hmmlearn-0.3.3-cp312-cp312-win_amd64.whl (127 kB)\n",
      "   ---------------------------------------- 0.0/127.3 kB ? eta -:--:--\n",
      "   --- ------------------------------------ 10.2/127.3 kB ? eta -:--:--\n",
      "   --------- ----------------------------- 30.7/127.3 kB 435.7 kB/s eta 0:00:01\n",
      "   -------------------------------------- - 122.9/127.3 kB 1.2 MB/s eta 0:00:01\n",
      "   ---------------------------------------- 127.3/127.3 kB 1.1 MB/s eta 0:00:00\n",
      "Installing collected packages: hmmlearn\n",
      "Successfully installed hmmlearn-0.3.3\n"
     ]
    },
    {
     "name": "stderr",
     "output_type": "stream",
     "text": [
      "\n",
      "[notice] A new release of pip is available: 24.0 -> 25.1.1\n",
      "[notice] To update, run: python.exe -m pip install --upgrade pip\n"
     ]
    }
   ],
   "source": [
    "!pip install hmmlearn"
   ]
  },
  {
   "cell_type": "code",
   "execution_count": 1,
   "id": "bb730d12-b431-43aa-a2ab-df3888ba9089",
   "metadata": {},
   "outputs": [],
   "source": [
    "import pandas as pd\n",
    "import numpy as np\n",
    "from Bio import SeqIO\n",
    "from hmmlearn import hmm"
   ]
  },
  {
   "cell_type": "code",
   "execution_count": 2,
   "id": "5b0c53c6-7f3b-477c-9a0b-cb00c9a7ca3d",
   "metadata": {},
   "outputs": [],
   "source": [
    "def read_fasta(file_path, filter_header=None):\n",
    "    sequences = ''\n",
    "    for record in SeqIO.parse(file_path, \"fasta\"):\n",
    "        if filter_header and filter_header not in record.id:\n",
    "            continue\n",
    "        sequences = record.seq\n",
    "    return sequences\n",
    "\n",
    "def read_centro_telo(file_path_centro, file_path_telo, file_path_cpg):\n",
    "    centro = pd.read_csv(file_path_centro)\n",
    "    centro.drop('#\"bin\"', axis=1, inplace=True)\n",
    "    \n",
    "    telo = pd.read_csv(file_path_telo)\n",
    "    telo.drop('#bin', axis=1, inplace=True)\n",
    "    telo = telo[telo['type'] == 'telomere']\n",
    "    \n",
    "    cpg = pd.read_csv(file_path_cpg)\n",
    "    cpg.drop('#\"bin\"', axis=1, inplace=True)\n",
    "    \n",
    "    return centro, telo, cpg\n",
    "\n",
    "def check_overlap(centro, telo, cpg):\n",
    "    telo.sort_values('chromStart', inplace=True)\n",
    "    # print(\"Starting Telomere\")\n",
    "    # print(f'({telo[['chromStart', 'chromEnd']].iloc[0, 0]},{telo[['chromStart', 'chromEnd']].iloc[0, 1]})')\n",
    "    # print(\"Ending Telomere\")\n",
    "    # print(f'({telo[['chromStart', 'chromEnd']].iloc[1, 0]},{telo[['chromStart', 'chromEnd']].iloc[1, 1]})')\n",
    "    \n",
    "    start_telo = telo[['chromStart', 'chromEnd']].iloc[0, 1]\n",
    "    end_telo = telo[['chromStart', 'chromEnd']].iloc[1, 0]\n",
    "\n",
    "    if len(cpg[cpg['chromStart'] < start_telo]) > 0 or len(cpg[cpg['chromEnd'] > end_telo]) > 0:\n",
    "        print(\"There is a CpG island overlapping with Telomeric regions.\")\n",
    "    else:\n",
    "        print(\"There is NO overlapping CpG island with Telomeric regions.\")\n",
    "        \n",
    "    centro.sort_values('chromStart', inplace=True)\n",
    "    min_centro = centro[['chromStart','chromEnd']].iloc[0,0]\n",
    "    max_centro = centro[['chromStart','chromEnd']].iloc[len(centro)-1, 1]\n",
    "\n",
    "    if len(cpg[(cpg['chromStart'] > min_centro) & (cpg['chromEnd'] < max_centro)]) > 0:\n",
    "        print(\"Do a manual inspection because there is a CpG island in between the Centromeric regions.\")\n",
    "    else:\n",
    "        print(\"There is NO overlapping CpG island with Centromeric regions.\")"
   ]
  },
  {
   "cell_type": "code",
   "execution_count": 5,
   "id": "9446a2b9-faa9-4d9a-a188-7e46431eaafb",
   "metadata": {},
   "outputs": [],
   "source": [
    "seq = read_fasta('./GRCh38.p14.genome.fa', 'chr18')"
   ]
  },
  {
   "cell_type": "code",
   "execution_count": 3,
   "id": "9de5c7b0-8838-418b-bc63-6147592c5cdc",
   "metadata": {},
   "outputs": [],
   "source": [
    "centro18_df, telo18_df, cpg18_df = read_centro_telo('./chr18/centromeres.csv','./chr18/telomeres.csv', './chr18/cpg.csv')\n",
    "centro19_df, telo19_df, cpg19_df = read_centro_telo('./chr19/centromeres.csv','./chr19/telomeres.csv', './chr19/cpg.csv')"
   ]
  },
  {
   "cell_type": "code",
   "execution_count": 7,
   "id": "52077405-e395-4ace-b285-7277314ec512",
   "metadata": {},
   "outputs": [
    {
     "name": "stdout",
     "output_type": "stream",
     "text": [
      "There is NO overlapping CpG island with Telomeric regions.\n",
      "There is NO overlapping CpG island with Centromeric regions.\n"
     ]
    }
   ],
   "source": [
    "check_overlap(centro18_df, telo18_df, cpg18_df)"
   ]
  },
  {
   "cell_type": "code",
   "execution_count": 5,
   "id": "6880daa7-b74f-4830-895e-0725255a141c",
   "metadata": {},
   "outputs": [
    {
     "name": "stdout",
     "output_type": "stream",
     "text": [
      "There is NO overlapping CpG island with Telomeric regions.\n",
      "There is NO overlapping CpG island with Centromeric regions.\n"
     ]
    }
   ],
   "source": [
    "check_overlap(centro19_df, telo19_df, cpg19_df)"
   ]
  },
  {
   "cell_type": "code",
   "execution_count": 6,
   "id": "3cc16855-0600-447c-8818-53340ab1a7f9",
   "metadata": {},
   "outputs": [],
   "source": [
    "def check_in_start_end(i, index, start_end, in_):\n",
    "    if index < len(start_end):\n",
    "        if not in_ and i >= start_end[index]:\n",
    "            return True, index + 1\n",
    "        if in_ and i >= start_end[index]:\n",
    "            return False, index + 1\n",
    "    return in_, index    "
   ]
  },
  {
   "cell_type": "code",
   "execution_count": 10,
   "id": "ae0cae75-0430-459d-853f-b71f5c3c5252",
   "metadata": {},
   "outputs": [],
   "source": [
    "# check regions for ith base\n",
    "in_cpg = False\n",
    "cpg_index = 0\n",
    "\n",
    "in_centro = False\n",
    "centro_index = 0\n",
    "\n",
    "in_telo = False\n",
    "telo_index = 0\n",
    "\n",
    "# check regions for (i+1)th base\n",
    "in_cpg_next = False\n",
    "cpg_index_next = 0\n",
    "\n",
    "in_centro_next = False\n",
    "centro_index_next = 0\n",
    "\n",
    "in_telo_next = False\n",
    "telo_index_next = 0\n",
    "\n",
    "# flatten the regions\n",
    "telo_start_end = telo18_df.sort_values('chromStart')[['chromStart', 'chromEnd']].to_numpy().flatten()\n",
    "centro_start_end = centro18_df.sort_values('chromStart')[['chromStart', 'chromEnd']].to_numpy().flatten()\n",
    "cpg_start_end = cpg18_df.sort_values('chromStart')[['chromStart', 'chromEnd']].to_numpy().flatten()\n",
    "\n",
    "# Format: A-, G-, C-, T-, A+, G+, C+, T+\n",
    "init_probs = np.zeros(8) # data structure for initial probabilities\n",
    "emit_probs = np.concatenate([np.eye(4), np.eye(4)]) # data structure for emission probabilities\n",
    "tran_probs = np.zeros((8,8)) # data structure for transition probabilities\n",
    "\n",
    "# base to index\n",
    "init_dict = {\n",
    "    'A-': 0,\n",
    "    'G-': 1,\n",
    "    'C-': 2,\n",
    "    'T-': 3,\n",
    "    'A+': 4,\n",
    "    'G+': 5,\n",
    "    'C+': 6,\n",
    "    'T+': 7,\n",
    "}\n",
    "\n",
    "# linearly traverse the sequence\n",
    "for i in range(len(seq)):\n",
    "    # check if in telomeric region\n",
    "    in_telo, telo_index = check_in_start_end(i, telo_index, telo_start_end, in_telo)\n",
    "    if in_telo:\n",
    "        continue\n",
    "\n",
    "    # check if in centromeric region\n",
    "    in_centro, centro_index = check_in_start_end(i, centro_index, centro_start_end, in_centro)\n",
    "    if in_centro:\n",
    "        continue\n",
    "\n",
    "    # check if in CpG island\n",
    "    in_cpg, cpg_index = check_in_start_end(i, cpg_index, cpg_start_end, in_cpg)\n",
    "\n",
    "    # avoid ambiguous bases N\n",
    "    if seq[i] == 'N':\n",
    "        continue\n",
    "\n",
    "    # counting the frequency of each Markov States\n",
    "    base_i = seq[i] + ('+' if in_cpg else '-')\n",
    "    init_probs[init_dict[base_i]] += 1\n",
    "\n",
    "    if i + 1 < len(seq):\n",
    "        # check if next index in telomeric region\n",
    "        in_telo_next, telo_index_next = check_in_start_end(i + 1, telo_index_next, telo_start_end, in_telo_next)\n",
    "        if in_telo_next:\n",
    "            continue\n",
    "\n",
    "        # check if next base in centromeric region\n",
    "        in_centro_next, centro_index_next = check_in_start_end(i + 1, centro_index_next, centro_start_end, in_centro_next)\n",
    "        if in_centro_next:\n",
    "            continue\n",
    "\n",
    "        # check if next base in CpG island\n",
    "        in_cpg_next, cpg_index_next = check_in_start_end(i + 1, cpg_index_next, cpg_start_end, in_cpg_next)\n",
    "\n",
    "        # avoid ambiguous bases N\n",
    "        if seq[i+1] == 'N':\n",
    "            continue\n",
    "\n",
    "        base_i_next = seq[i + 1] + ('+' if in_cpg_next else '-')\n",
    "        tran_probs[init_dict[base_i_next], init_dict[base_i]] += 1"
   ]
  },
  {
   "cell_type": "code",
   "execution_count": 11,
   "id": "b31c0fc0-152d-4af4-a388-cf421291edaf",
   "metadata": {},
   "outputs": [
    {
     "data": {
      "text/plain": [
       "1.0"
      ]
     },
     "execution_count": 11,
     "metadata": {},
     "output_type": "execute_result"
    }
   ],
   "source": [
    "# sanity check for initial probabilities\n",
    "(init_probs/init_probs.sum()).sum()"
   ]
  },
  {
   "cell_type": "code",
   "execution_count": 12,
   "id": "7997aea7-a568-41a4-8457-d39ecaefaf02",
   "metadata": {},
   "outputs": [
    {
     "data": {
      "text/plain": [
       "array([1., 1., 1., 1., 1., 1., 1., 1.])"
      ]
     },
     "execution_count": 12,
     "metadata": {},
     "output_type": "execute_result"
    }
   ],
   "source": [
    "# sanity check for transition probabilities\n",
    "(tran_probs/tran_probs.sum(axis=1)[:, np.newaxis]).sum(axis=1)"
   ]
  },
  {
   "cell_type": "code",
   "execution_count": 13,
   "id": "f501fe13-3628-41cb-80a9-9e8141cc8384",
   "metadata": {},
   "outputs": [
    {
     "data": {
      "text/plain": [
       "array([[3.36673990e-01, 1.95908309e-01, 2.39228107e-01, 2.28186162e-01,\n",
       "        0.00000000e+00, 3.43276126e-06, 0.00000000e+00, 0.00000000e+00],\n",
       "       [3.47248782e-01, 2.44139710e-01, 4.30627657e-02, 3.65536322e-01,\n",
       "        0.00000000e+00, 1.24203267e-05, 0.00000000e+00, 0.00000000e+00],\n",
       "       [2.54927379e-01, 2.02469356e-01, 2.44062515e-01, 2.98531777e-01,\n",
       "        0.00000000e+00, 8.97388884e-06, 0.00000000e+00, 0.00000000e+00],\n",
       "       [2.67780742e-01, 1.67633343e-01, 2.27956537e-01, 3.36624168e-01,\n",
       "        0.00000000e+00, 5.21063363e-06, 0.00000000e+00, 0.00000000e+00],\n",
       "       [0.00000000e+00, 0.00000000e+00, 0.00000000e+00, 0.00000000e+00,\n",
       "        1.99077698e-01, 3.56594885e-01, 3.58744075e-01, 8.55833416e-02],\n",
       "       [0.00000000e+00, 0.00000000e+00, 0.00000000e+00, 0.00000000e+00,\n",
       "        1.89002316e-01, 3.56557190e-01, 2.92117022e-01, 1.62323473e-01],\n",
       "       [6.34074381e-04, 8.41119077e-04, 1.30696964e-03, 5.11141593e-04,\n",
       "        1.24278579e-01, 3.47272186e-01, 3.57223272e-01, 1.67932659e-01],\n",
       "       [0.00000000e+00, 0.00000000e+00, 0.00000000e+00, 0.00000000e+00,\n",
       "        1.14232051e-01, 2.74063718e-01, 4.14576625e-01, 1.97127605e-01]])"
      ]
     },
     "execution_count": 13,
     "metadata": {},
     "output_type": "execute_result"
    }
   ],
   "source": [
    "final_tran_probs = tran_probs/tran_probs.sum(axis=1)[:, np.newaxis]\n",
    "final_tran_probs"
   ]
  },
  {
   "cell_type": "code",
   "execution_count": 14,
   "id": "dffa64aa-216a-4393-8c02-64f94373e7b5",
   "metadata": {},
   "outputs": [
    {
     "data": {
      "text/plain": [
       "array([0.29997011, 0.19703748, 0.19670899, 0.30027983, 0.00093958,\n",
       "       0.00205016, 0.00206689, 0.00094697])"
      ]
     },
     "execution_count": 14,
     "metadata": {},
     "output_type": "execute_result"
    }
   ],
   "source": [
    "final_init_probs = init_probs/init_probs.sum()\n",
    "final_init_probs"
   ]
  },
  {
   "cell_type": "code",
   "execution_count": 15,
   "id": "0c3833f7-dc8c-4934-864b-ce75c21854db",
   "metadata": {},
   "outputs": [],
   "source": [
    "# Checkpoint for transition probabilities\n",
    "np.savetxt(\"transition_probs.csv\", final_tran_probs, delimiter=\",\")"
   ]
  },
  {
   "cell_type": "code",
   "execution_count": 16,
   "id": "1fc82880-c6c0-4ca0-97d2-2786c63b6969",
   "metadata": {},
   "outputs": [],
   "source": [
    "# Checkpoint forr initial probabilities\n",
    "np.savetxt(\"initial_probs.csv\", final_init_probs, delimiter=\",\")"
   ]
  },
  {
   "cell_type": "markdown",
   "id": "eec20475",
   "metadata": {},
   "source": [
    "### Build HMM"
   ]
  },
  {
   "cell_type": "code",
   "execution_count": 4,
   "id": "18bc7291-5878-4614-9334-5bf94e2a59e7",
   "metadata": {},
   "outputs": [],
   "source": [
    "states = ['A-', 'G-', 'C-', 'T-', 'A+', 'G+', 'C+', 'T+']\n",
    "n_states = len(states)"
   ]
  },
  {
   "cell_type": "code",
   "execution_count": 5,
   "id": "1f42e26d",
   "metadata": {},
   "outputs": [],
   "source": [
    "transition_probs = np.loadtxt(\"transition_probs.csv\", delimiter=\",\")\n",
    "initial_probs = np.loadtxt(\"initial_probs.csv\", delimiter=\",\")"
   ]
  },
  {
   "cell_type": "code",
   "execution_count": 6,
   "id": "63c95bfc",
   "metadata": {},
   "outputs": [],
   "source": [
    "emit_probs = np.concatenate([np.eye(4), np.eye(4)])\n"
   ]
  },
  {
   "cell_type": "code",
   "execution_count": 7,
   "id": "aaf7d0f3",
   "metadata": {},
   "outputs": [
    {
     "data": {
      "text/plain": [
       "array([[3.36673990e-01, 1.95908309e-01, 2.39228107e-01, 2.28186162e-01,\n",
       "        0.00000000e+00, 3.43276126e-06, 0.00000000e+00, 0.00000000e+00],\n",
       "       [3.47248782e-01, 2.44139710e-01, 4.30627657e-02, 3.65536322e-01,\n",
       "        0.00000000e+00, 1.24203267e-05, 0.00000000e+00, 0.00000000e+00],\n",
       "       [2.54927379e-01, 2.02469356e-01, 2.44062515e-01, 2.98531777e-01,\n",
       "        0.00000000e+00, 8.97388884e-06, 0.00000000e+00, 0.00000000e+00],\n",
       "       [2.67780742e-01, 1.67633343e-01, 2.27956537e-01, 3.36624168e-01,\n",
       "        0.00000000e+00, 5.21063363e-06, 0.00000000e+00, 0.00000000e+00],\n",
       "       [0.00000000e+00, 0.00000000e+00, 0.00000000e+00, 0.00000000e+00,\n",
       "        1.99077698e-01, 3.56594885e-01, 3.58744075e-01, 8.55833416e-02],\n",
       "       [0.00000000e+00, 0.00000000e+00, 0.00000000e+00, 0.00000000e+00,\n",
       "        1.89002316e-01, 3.56557190e-01, 2.92117022e-01, 1.62323473e-01],\n",
       "       [6.34074381e-04, 8.41119077e-04, 1.30696964e-03, 5.11141593e-04,\n",
       "        1.24278579e-01, 3.47272186e-01, 3.57223272e-01, 1.67932659e-01],\n",
       "       [0.00000000e+00, 0.00000000e+00, 0.00000000e+00, 0.00000000e+00,\n",
       "        1.14232051e-01, 2.74063718e-01, 4.14576625e-01, 1.97127605e-01]])"
      ]
     },
     "execution_count": 7,
     "metadata": {},
     "output_type": "execute_result"
    }
   ],
   "source": [
    "transition_probs"
   ]
  },
  {
   "cell_type": "code",
   "execution_count": 8,
   "id": "7463a274",
   "metadata": {},
   "outputs": [],
   "source": [
    "model = hmm.CategoricalHMM(n_components=n_states)\n",
    "model.startprob_= initial_probs\n",
    "model.emissionprob_ = emit_probs\n",
    "model.transmat_ = transition_probs"
   ]
  },
  {
   "cell_type": "code",
   "execution_count": 9,
   "id": "bda4992d",
   "metadata": {},
   "outputs": [],
   "source": [
    "def get_gene_sequence(filename):\n",
    "    file = read_fasta(filename)\n",
    "    gene = str(file)\n",
    "            \n",
    "    out = []\n",
    "    \n",
    "    for char in gene :\n",
    "        if char == \"A\":\n",
    "            out.append([0])\n",
    "        elif char == \"G\":\n",
    "            out.append([1])\n",
    "        elif char == \"C\":\n",
    "            out.append([2])\n",
    "        else:\n",
    "            out.append([3])\n",
    "            \n",
    "    return np.array(out)\n",
    "            \n"
   ]
  },
  {
   "cell_type": "code",
   "execution_count": 68,
   "id": "51740687",
   "metadata": {},
   "outputs": [],
   "source": [
    "test_sequence_np = get_gene_sequence(\"seq_test_1_withoutN.fasta\")"
   ]
  },
  {
   "cell_type": "code",
   "execution_count": null,
   "id": "ac96c2e9",
   "metadata": {},
   "outputs": [],
   "source": [
    "logprob, output_bases = model.decode(test_sequence_np, algorithm=\"viterbi\")"
   ]
  },
  {
   "cell_type": "code",
   "execution_count": null,
   "id": "a410fafd",
   "metadata": {},
   "outputs": [],
   "source": [
    "out = \"%s\"%\" \".join([states[x][-1] for x in output_bases])"
   ]
  },
  {
   "cell_type": "code",
   "execution_count": 78,
   "id": "83c43016",
   "metadata": {},
   "outputs": [],
   "source": [
    "with open (\"output.txt\", \"w\") as f:\n",
    "    f.write(out)"
   ]
  },
  {
   "cell_type": "code",
   "execution_count": 11,
   "id": "6bf3f14f",
   "metadata": {},
   "outputs": [],
   "source": [
    "test_sequence_np_2 = get_gene_sequence(\"seq_test_2_withoutN.fasta\")"
   ]
  },
  {
   "cell_type": "code",
   "execution_count": 12,
   "id": "caf6fc22",
   "metadata": {},
   "outputs": [],
   "source": [
    "logprob_2, output_bases_2 = model.decode(test_sequence_np_2, algorithm=\"viterbi\")"
   ]
  },
  {
   "cell_type": "code",
   "execution_count": 13,
   "id": "daec0b2a",
   "metadata": {},
   "outputs": [
    {
     "name": "stdout",
     "output_type": "stream",
     "text": [
      "[1 0 3 ... 1 3 3]\n"
     ]
    }
   ],
   "source": [
    "print(output_bases_2)"
   ]
  },
  {
   "cell_type": "code",
   "execution_count": 14,
   "id": "662febd6",
   "metadata": {},
   "outputs": [
    {
     "data": {
      "text/plain": [
       "(array([0, 1, 2, 3, 4, 5, 6, 7], dtype=int64),\n",
       " array([5730616, 3881159, 3850131, 5744266, 2502474, 3569940, 3575744,\n",
       "        2512412], dtype=int64))"
      ]
     },
     "execution_count": 14,
     "metadata": {},
     "output_type": "execute_result"
    }
   ],
   "source": [
    "np.unique(np.array(output_bases_2), return_counts = True)"
   ]
  },
  {
   "cell_type": "code",
   "execution_count": 15,
   "id": "78ba861e",
   "metadata": {},
   "outputs": [],
   "source": [
    "out_2 = \"%s\"%\" \".join([states[x][-1] for x in output_bases_2])"
   ]
  },
  {
   "cell_type": "code",
   "execution_count": 16,
   "id": "0bc383d4",
   "metadata": {},
   "outputs": [],
   "source": [
    "with open (\"output_2.txt\", \"w\") as f:\n",
    "    f.write(out_2)"
   ]
  },
  {
   "cell_type": "markdown",
   "id": "30928453",
   "metadata": {},
   "source": [
    "### Extract regions of chr19 WITHOUT telomere and centromere"
   ]
  },
  {
   "cell_type": "code",
   "execution_count": 12,
   "id": "e8f137d5",
   "metadata": {},
   "outputs": [],
   "source": [
    "seq_test = read_fasta('./GRCh38.p14.genome.fa', 'chr19')"
   ]
  },
  {
   "cell_type": "code",
   "execution_count": 13,
   "id": "534d1c8a",
   "metadata": {},
   "outputs": [
    {
     "name": "stdout",
     "output_type": "stream",
     "text": [
      "There is NO overlapping CpG island with Telomeric regions.\n",
      "There is NO overlapping CpG island with Centromeric regions.\n"
     ]
    }
   ],
   "source": [
    "check_overlap(centro19_df, telo19_df, cpg19_df)"
   ]
  },
  {
   "cell_type": "code",
   "execution_count": 46,
   "id": "a16cbcba",
   "metadata": {},
   "outputs": [],
   "source": [
    "# Extract 2 subsequences from chr19 such that\n",
    "# 10000-first centromere\n",
    "# skip all centromere regions \n",
    "# end of last centromere - (end- 10000)\n",
    "\n",
    "start_centro = centro19_df['chromStart'][0]\n",
    "end_centro = centro19_df['chromEnd'].iloc[-1]\n",
    "\n",
    "end_first_telo = telo19_df['chromEnd'].iloc[0]\n",
    "start_last_telo = telo19_df['chromStart'].iloc[-1]\n",
    "\n",
    "seq_test_1 = seq_test[end_first_telo: start_centro]\n",
    "seq_test_2 = seq_test[end_centro: start_last_telo]\n",
    "\n",
    "# save the sequences to fasta files\n",
    "with open('seq_test_1.fasta', 'w') as f:\n",
    "    f.write(f'>seq_test_1\\tindex {end_first_telo}:{start_centro-1}\\n{seq_test_1}\\n')\n",
    "\n",
    "with open('seq_test_2.fasta', 'w') as f:\n",
    "    f.write(f'>seq_test_2\\tindex {end_centro}:{start_last_telo-1}\\n{seq_test_2}\\n')\n"
   ]
  },
  {
   "cell_type": "code",
   "execution_count": 48,
   "id": "d336299d",
   "metadata": {},
   "outputs": [
    {
     "name": "stdout",
     "output_type": "stream",
     "text": [
      "GATCACAGAGGCTGGGCTGCTCCCCACCCTCTGCACACCTCCTGCTTCTAACAGCAGAGCTGCCAGGCCAGGCCCTCAGGCAAGGGCTCTGAAGTCAGGG\n",
      "GATCCTTTACACAGAACAGATTTGAAACACTCTTTTTGTGGAATTTCCAAGTGGAGATTTCAGCCGATTTGAAGTCAATCGTAGAAAAGGAGATATCTTC\n"
     ]
    }
   ],
   "source": [
    "# search for first index without N\n",
    "def find_first_valid_index(seq):\n",
    "    for i, base in enumerate(seq):\n",
    "        if base != 'N':\n",
    "            return i\n",
    "    return -1\n",
    "\n",
    "# search for first index with N\n",
    "def find_first_invalid_index(seq):\n",
    "    for i, base in enumerate(seq):\n",
    "        if base == 'N':\n",
    "            return i\n",
    "    return -1\n",
    "\n",
    "def find_valid_subsequence(seq):\n",
    "    start_index = find_first_valid_index(seq)\n",
    "    if start_index == -1:\n",
    "        return 0, 0, ''\n",
    "\n",
    "    end_index = find_first_invalid_index(seq[start_index:])\n",
    "    if end_index == -1:\n",
    "        return start_index, len(seq), seq[start_index:]\n",
    "\n",
    "    end_index += start_index\n",
    "    return start_index, end_index, seq[start_index:end_index]\n",
    "\n",
    "\n",
    "start_index_1, end_index_1, valid_subsequence_1 = find_valid_subsequence(seq_test_1)\n",
    "print (valid_subsequence_1[:100])\n",
    "start_index_2, end_index_2, valid_subsequence_2 = find_valid_subsequence(seq_test_2)\n",
    "print (valid_subsequence_2[:100])\n",
    "\n",
    "with open('seq_test_1_withoutN.fasta', 'w') as f:\n",
    "    f.write(f'>seq_test_1_withoutN\\tindex {end_first_telo + start_index_1}:{end_first_telo+ end_index_1}\\n{valid_subsequence_1}\\n')\n",
    "with open('seq_test_2_withoutN.fasta', 'w') as f:\n",
    "    f.write(f'>seq_test_2_withoutN\\tindex {end_centro + start_index_2}:{end_centro+ end_index_2}\\n{valid_subsequence_2}\\n')\n",
    "\n"
   ]
  },
  {
   "cell_type": "code",
   "execution_count": null,
   "id": "c905f381",
   "metadata": {},
   "outputs": [
    {
     "data": {
      "text/html": [
       "<div>\n",
       "<style scoped>\n",
       "    .dataframe tbody tr th:only-of-type {\n",
       "        vertical-align: middle;\n",
       "    }\n",
       "\n",
       "    .dataframe tbody tr th {\n",
       "        vertical-align: top;\n",
       "    }\n",
       "\n",
       "    .dataframe thead th {\n",
       "        text-align: right;\n",
       "    }\n",
       "</style>\n",
       "<table border=\"1\" class=\"dataframe\">\n",
       "  <thead>\n",
       "    <tr style=\"text-align: right;\">\n",
       "      <th></th>\n",
       "      <th>chrom</th>\n",
       "      <th>chromStart</th>\n",
       "      <th>chromEnd</th>\n",
       "      <th>name</th>\n",
       "      <th>length</th>\n",
       "      <th>cpgNum</th>\n",
       "      <th>gcNum</th>\n",
       "      <th>perCpg</th>\n",
       "      <th>perGc</th>\n",
       "      <th>obsExp</th>\n",
       "    </tr>\n",
       "  </thead>\n",
       "  <tbody>\n",
       "    <tr>\n",
       "      <th>0</th>\n",
       "      <td>chr19</td>\n",
       "      <td>70343</td>\n",
       "      <td>71344</td>\n",
       "      <td>CpG: 112</td>\n",
       "      <td>1001</td>\n",
       "      <td>112</td>\n",
       "      <td>731</td>\n",
       "      <td>22.4</td>\n",
       "      <td>73.0</td>\n",
       "      <td>0.86</td>\n",
       "    </tr>\n",
       "    <tr>\n",
       "      <th>1</th>\n",
       "      <td>chr19</td>\n",
       "      <td>267085</td>\n",
       "      <td>267660</td>\n",
       "      <td>CpG: 70</td>\n",
       "      <td>575</td>\n",
       "      <td>70</td>\n",
       "      <td>372</td>\n",
       "      <td>24.3</td>\n",
       "      <td>64.7</td>\n",
       "      <td>1.17</td>\n",
       "    </tr>\n",
       "    <tr>\n",
       "      <th>2</th>\n",
       "      <td>chr19</td>\n",
       "      <td>290594</td>\n",
       "      <td>292249</td>\n",
       "      <td>CpG: 165</td>\n",
       "      <td>1655</td>\n",
       "      <td>165</td>\n",
       "      <td>1028</td>\n",
       "      <td>19.9</td>\n",
       "      <td>62.1</td>\n",
       "      <td>1.04</td>\n",
       "    </tr>\n",
       "    <tr>\n",
       "      <th>3</th>\n",
       "      <td>chr19</td>\n",
       "      <td>295114</td>\n",
       "      <td>295354</td>\n",
       "      <td>CpG: 25</td>\n",
       "      <td>240</td>\n",
       "      <td>25</td>\n",
       "      <td>175</td>\n",
       "      <td>20.8</td>\n",
       "      <td>72.9</td>\n",
       "      <td>0.79</td>\n",
       "    </tr>\n",
       "    <tr>\n",
       "      <th>4</th>\n",
       "      <td>chr19</td>\n",
       "      <td>306214</td>\n",
       "      <td>306681</td>\n",
       "      <td>CpG: 40</td>\n",
       "      <td>467</td>\n",
       "      <td>40</td>\n",
       "      <td>339</td>\n",
       "      <td>17.1</td>\n",
       "      <td>72.6</td>\n",
       "      <td>0.66</td>\n",
       "    </tr>\n",
       "    <tr>\n",
       "      <th>...</th>\n",
       "      <td>...</td>\n",
       "      <td>...</td>\n",
       "      <td>...</td>\n",
       "      <td>...</td>\n",
       "      <td>...</td>\n",
       "      <td>...</td>\n",
       "      <td>...</td>\n",
       "      <td>...</td>\n",
       "      <td>...</td>\n",
       "      <td>...</td>\n",
       "    </tr>\n",
       "    <tr>\n",
       "      <th>2487</th>\n",
       "      <td>chr19</td>\n",
       "      <td>58558566</td>\n",
       "      <td>58559733</td>\n",
       "      <td>CpG: 115</td>\n",
       "      <td>1167</td>\n",
       "      <td>115</td>\n",
       "      <td>769</td>\n",
       "      <td>19.7</td>\n",
       "      <td>65.9</td>\n",
       "      <td>0.91</td>\n",
       "    </tr>\n",
       "    <tr>\n",
       "      <th>2488</th>\n",
       "      <td>chr19</td>\n",
       "      <td>58562046</td>\n",
       "      <td>58563388</td>\n",
       "      <td>CpG: 147</td>\n",
       "      <td>1342</td>\n",
       "      <td>147</td>\n",
       "      <td>933</td>\n",
       "      <td>21.9</td>\n",
       "      <td>69.5</td>\n",
       "      <td>0.91</td>\n",
       "    </tr>\n",
       "    <tr>\n",
       "      <th>2489</th>\n",
       "      <td>chr19</td>\n",
       "      <td>58572834</td>\n",
       "      <td>58573692</td>\n",
       "      <td>CpG: 80</td>\n",
       "      <td>858</td>\n",
       "      <td>80</td>\n",
       "      <td>520</td>\n",
       "      <td>18.6</td>\n",
       "      <td>60.6</td>\n",
       "      <td>1.04</td>\n",
       "    </tr>\n",
       "    <tr>\n",
       "      <th>2490</th>\n",
       "      <td>chr19</td>\n",
       "      <td>58575330</td>\n",
       "      <td>58575932</td>\n",
       "      <td>CpG: 60</td>\n",
       "      <td>602</td>\n",
       "      <td>60</td>\n",
       "      <td>411</td>\n",
       "      <td>19.9</td>\n",
       "      <td>68.3</td>\n",
       "      <td>0.86</td>\n",
       "    </tr>\n",
       "    <tr>\n",
       "      <th>2491</th>\n",
       "      <td>chr19</td>\n",
       "      <td>58581324</td>\n",
       "      <td>58581906</td>\n",
       "      <td>CpG: 47</td>\n",
       "      <td>582</td>\n",
       "      <td>47</td>\n",
       "      <td>368</td>\n",
       "      <td>16.2</td>\n",
       "      <td>63.2</td>\n",
       "      <td>0.82</td>\n",
       "    </tr>\n",
       "  </tbody>\n",
       "</table>\n",
       "<p>2492 rows × 10 columns</p>\n",
       "</div>"
      ],
      "text/plain": [
       "      chrom  chromStart  chromEnd      name  length  cpgNum  gcNum  perCpg  \\\n",
       "0     chr19       70343     71344  CpG: 112    1001     112    731    22.4   \n",
       "1     chr19      267085    267660   CpG: 70     575      70    372    24.3   \n",
       "2     chr19      290594    292249  CpG: 165    1655     165   1028    19.9   \n",
       "3     chr19      295114    295354   CpG: 25     240      25    175    20.8   \n",
       "4     chr19      306214    306681   CpG: 40     467      40    339    17.1   \n",
       "...     ...         ...       ...       ...     ...     ...    ...     ...   \n",
       "2487  chr19    58558566  58559733  CpG: 115    1167     115    769    19.7   \n",
       "2488  chr19    58562046  58563388  CpG: 147    1342     147    933    21.9   \n",
       "2489  chr19    58572834  58573692   CpG: 80     858      80    520    18.6   \n",
       "2490  chr19    58575330  58575932   CpG: 60     602      60    411    19.9   \n",
       "2491  chr19    58581324  58581906   CpG: 47     582      47    368    16.2   \n",
       "\n",
       "      perGc  obsExp  \n",
       "0      73.0    0.86  \n",
       "1      64.7    1.17  \n",
       "2      62.1    1.04  \n",
       "3      72.9    0.79  \n",
       "4      72.6    0.66  \n",
       "...     ...     ...  \n",
       "2487   65.9    0.91  \n",
       "2488   69.5    0.91  \n",
       "2489   60.6    1.04  \n",
       "2490   68.3    0.86  \n",
       "2491   63.2    0.82  \n",
       "\n",
       "[2492 rows x 10 columns]"
      ]
     },
     "execution_count": 79,
     "metadata": {},
     "output_type": "execute_result"
    }
   ],
   "source": [
    "cpg19_df.tail(20)"
   ]
  },
  {
   "cell_type": "code",
   "execution_count": null,
   "id": "17c4eba0",
   "metadata": {},
   "outputs": [],
   "source": []
  }
 ],
 "metadata": {
  "kernelspec": {
   "display_name": "Python 3",
   "language": "python",
   "name": "python3"
  },
  "language_info": {
   "codemirror_mode": {
    "name": "ipython",
    "version": 3
   },
   "file_extension": ".py",
   "mimetype": "text/x-python",
   "name": "python",
   "nbconvert_exporter": "python",
   "pygments_lexer": "ipython3",
   "version": "3.12.3"
  }
 },
 "nbformat": 4,
 "nbformat_minor": 5
}
