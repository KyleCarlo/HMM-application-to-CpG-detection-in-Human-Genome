{
 "cells": [
  {
   "cell_type": "code",
   "execution_count": null,
   "id": "b8396d7d-5b0b-4e47-9f9c-1c578a7f0c6e",
   "metadata": {},
   "outputs": [
    {
     "name": "stdout",
     "output_type": "stream",
     "text": [
      "Defaulting to user installation because normal site-packages is not writeable\n",
      "Collecting biopython\n",
      "  Downloading biopython-1.85-cp312-cp312-win_amd64.whl.metadata (13 kB)\n",
      "Requirement already satisfied: numpy in c:\\programdata\\anaconda3\\lib\\site-packages (from biopython) (1.26.4)\n",
      "Downloading biopython-1.85-cp312-cp312-win_amd64.whl (2.8 MB)\n",
      "   ---------------------------------------- 0.0/2.8 MB ? eta -:--:--\n",
      "   -------------- ------------------------- 1.0/2.8 MB 8.5 MB/s eta 0:00:01\n",
      "   -------------------------- ------------- 1.8/2.8 MB 3.5 MB/s eta 0:00:01\n",
      "   ----------------------------- ---------- 2.1/2.8 MB 3.8 MB/s eta 0:00:01\n",
      "   ---------------------------------------- 2.8/2.8 MB 3.2 MB/s eta 0:00:00\n",
      "Installing collected packages: biopython\n",
      "Successfully installed biopython-1.85\n"
     ]
    }
   ],
   "source": [
    "# !pip install biopython"
   ]
  },
  {
   "cell_type": "code",
   "execution_count": 1,
   "id": "bb730d12-b431-43aa-a2ab-df3888ba9089",
   "metadata": {},
   "outputs": [],
   "source": [
    "import pandas as pd\n",
    "import numpy as np\n",
    "from Bio import SeqIO"
   ]
  },
  {
   "cell_type": "code",
   "execution_count": 2,
   "id": "5b0c53c6-7f3b-477c-9a0b-cb00c9a7ca3d",
   "metadata": {},
   "outputs": [],
   "source": [
    "def read_fasta(file_path, filter_header=None):\n",
    "    sequences = ''\n",
    "    for record in SeqIO.parse(file_path, \"fasta\"):\n",
    "        if filter_header and filter_header not in record.id:\n",
    "            continue\n",
    "        sequences = record.seq\n",
    "    return sequences\n",
    "\n",
    "def read_centro_telo(file_path_centro, file_path_telo, file_path_cpg):\n",
    "    centro = pd.read_csv(file_path_centro)\n",
    "    centro.drop('#\"bin\"', axis=1, inplace=True)\n",
    "    \n",
    "    telo = pd.read_csv(file_path_telo)\n",
    "    telo.drop('#bin', axis=1, inplace=True)\n",
    "    telo = telo[telo['type'] == 'telomere']\n",
    "    \n",
    "    cpg = pd.read_csv(file_path_cpg)\n",
    "    cpg.drop('#\"bin\"', axis=1, inplace=True)\n",
    "    \n",
    "    return centro, telo, cpg\n",
    "\n",
    "def check_overlap(centro, telo, cpg):\n",
    "    telo.sort_values('chromStart', inplace=True)\n",
    "    # print(\"Starting Telomere\")\n",
    "    # print(f'({telo[['chromStart', 'chromEnd']].iloc[0, 0]},{telo[['chromStart', 'chromEnd']].iloc[0, 1]})')\n",
    "    # print(\"Ending Telomere\")\n",
    "    # print(f'({telo[['chromStart', 'chromEnd']].iloc[1, 0]},{telo[['chromStart', 'chromEnd']].iloc[1, 1]})')\n",
    "    \n",
    "    start_telo = telo[['chromStart', 'chromEnd']].iloc[0, 1]\n",
    "    end_telo = telo[['chromStart', 'chromEnd']].iloc[1, 0]\n",
    "\n",
    "    if len(cpg[cpg['chromStart'] < start_telo]) > 0 or len(cpg[cpg['chromEnd'] > end_telo]) > 0:\n",
    "        print(\"There is a CpG island overlapping with Telomeric regions.\")\n",
    "    else:\n",
    "        print(\"There is NO overlapping CpG island with Telomeric regions.\")\n",
    "        \n",
    "    centro.sort_values('chromStart', inplace=True)\n",
    "    min_centro = centro[['chromStart','chromEnd']].iloc[0,0]\n",
    "    max_centro = centro[['chromStart','chromEnd']].iloc[len(centro)-1, 1]\n",
    "\n",
    "    if len(cpg[(cpg['chromStart'] > min_centro) & (cpg['chromEnd'] < max_centro)]) > 0:\n",
    "        print(\"Do a manual inspection because there is a CpG island in between the Centromeric regions.\")\n",
    "    else:\n",
    "        print(\"There is NO overlapping CpG island with Centromeric regions.\")"
   ]
  },
  {
   "cell_type": "code",
   "execution_count": 3,
   "id": "9446a2b9-faa9-4d9a-a188-7e46431eaafb",
   "metadata": {},
   "outputs": [],
   "source": [
    "seq = read_fasta('./GRCh38.p14.genome.fa', 'chr18')"
   ]
  },
  {
   "cell_type": "code",
   "execution_count": 4,
   "id": "9de5c7b0-8838-418b-bc63-6147592c5cdc",
   "metadata": {},
   "outputs": [],
   "source": [
    "centro18_df, telo18_df, cpg18_df = read_centro_telo('./chr18/centromeres.csv','./chr18/telomeres.csv', './chr18/cpg.csv')\n",
    "centro19_df, telo19_df, cpg19_df = read_centro_telo('./chr19/centromeres.csv','./chr19/telomeres.csv', './chr19/cpg.csv')"
   ]
  },
  {
   "cell_type": "code",
   "execution_count": 5,
   "id": "52077405-e395-4ace-b285-7277314ec512",
   "metadata": {},
   "outputs": [
    {
     "name": "stdout",
     "output_type": "stream",
     "text": [
      "There is NO overlapping CpG island with Telomeric regions.\n",
      "There is NO overlapping CpG island with Centromeric regions.\n"
     ]
    }
   ],
   "source": [
    "check_overlap(centro18_df, telo18_df, cpg18_df)"
   ]
  },
  {
   "cell_type": "code",
   "execution_count": 6,
   "id": "6880daa7-b74f-4830-895e-0725255a141c",
   "metadata": {},
   "outputs": [
    {
     "name": "stdout",
     "output_type": "stream",
     "text": [
      "There is NO overlapping CpG island with Telomeric regions.\n",
      "There is NO overlapping CpG island with Centromeric regions.\n"
     ]
    }
   ],
   "source": [
    "check_overlap(centro19_df, telo19_df, cpg19_df)"
   ]
  },
  {
   "cell_type": "code",
   "execution_count": 33,
   "id": "3cc16855-0600-447c-8818-53340ab1a7f9",
   "metadata": {},
   "outputs": [],
   "source": [
    "def check_in_start_end(i, index, start_end, in_):\n",
    "    if index < len(start_end):\n",
    "        if not in_ and i >= start_end[index]:\n",
    "            return True, index + 1\n",
    "        if in_ and i >= start_end[index]:\n",
    "            return False, index + 1\n",
    "    return in_, index    "
   ]
  },
  {
   "cell_type": "code",
   "execution_count": 34,
   "id": "ae0cae75-0430-459d-853f-b71f5c3c5252",
   "metadata": {},
   "outputs": [],
   "source": [
    "# check regions for ith base\n",
    "in_cpg = False\n",
    "cpg_index = 0\n",
    "\n",
    "in_centro = False\n",
    "centro_index = 0\n",
    "\n",
    "in_telo = False\n",
    "telo_index = 0\n",
    "\n",
    "# check regions for (i+1)th base\n",
    "in_cpg_next = False\n",
    "cpg_index_next = 0\n",
    "\n",
    "in_centro_next = False\n",
    "centro_index_next = 0\n",
    "\n",
    "in_telo_next = False\n",
    "telo_index_next = 0\n",
    "\n",
    "# flatten the regions\n",
    "telo_start_end = telo18_df.sort_values('chromStart')[['chromStart', 'chromEnd']].to_numpy().flatten()\n",
    "centro_start_end = centro18_df.sort_values('chromStart')[['chromStart', 'chromEnd']].to_numpy().flatten()\n",
    "cpg_start_end = cpg18_df.sort_values('chromStart')[['chromStart', 'chromEnd']].to_numpy().flatten()\n",
    "\n",
    "# Format: A-, G-, C-, T-, A+, G+, C+, T+\n",
    "init_probs = np.zeros(8) # data structure for initial probabilities\n",
    "emit_probs = np.concatenate([np.eye(4), np.eye(4)]) # data structure for emission probabilities\n",
    "tran_probs = np.zeros((8,8)) # data structure for transition probabilities\n",
    "\n",
    "# base to index\n",
    "init_dict = {\n",
    "    'A-': 0,\n",
    "    'G-': 1,\n",
    "    'C-': 2,\n",
    "    'T-': 3,\n",
    "    'A+': 4,\n",
    "    'G+': 5,\n",
    "    'C+': 6,\n",
    "    'T+': 7,\n",
    "}\n",
    "\n",
    "# linearly traverse the sequence\n",
    "for i in range(len(seq)):\n",
    "    # check if in telomeric region\n",
    "    in_telo, telo_index = check_in_start_end(i, telo_index, telo_start_end, in_telo)\n",
    "    if in_telo:\n",
    "        continue\n",
    "\n",
    "    # check if in centromeric region\n",
    "    in_centro, centro_index = check_in_start_end(i, centro_index, centro_start_end, in_centro)\n",
    "    if in_centro:\n",
    "        continue\n",
    "\n",
    "    # check if in CpG island\n",
    "    in_cpg, cpg_index = check_in_start_end(i, cpg_index, cpg_start_end, in_cpg)\n",
    "\n",
    "    # avoid ambiguous bases N\n",
    "    if seq[i] == 'N':\n",
    "        continue\n",
    "\n",
    "    # counting the frequency of each Markov States\n",
    "    base_i = seq[i] + ('+' if in_cpg else '-')\n",
    "    init_probs[init_dict[base_i]] += 1\n",
    "\n",
    "    if i + 1 < len(seq):\n",
    "        # check if next index in telomeric region\n",
    "        in_telo_next, telo_index_next = check_in_start_end(i + 1, telo_index_next, telo_start_end, in_telo_next)\n",
    "        if in_telo_next:\n",
    "            continue\n",
    "\n",
    "        # check if next base in centromeric region\n",
    "        in_centro_next, centro_index_next = check_in_start_end(i + 1, centro_index_next, centro_start_end, in_centro_next)\n",
    "        if in_centro_next:\n",
    "            continue\n",
    "\n",
    "        # check if next base in CpG island\n",
    "        in_cpg_next, cpg_index_next = check_in_start_end(i + 1, cpg_index_next, cpg_start_end, in_cpg_next)\n",
    "\n",
    "        # avoid ambiguous bases N\n",
    "        if seq[i+1] == 'N':\n",
    "            continue\n",
    "\n",
    "        base_i_next = seq[i + 1] + ('+' if in_cpg_next else '-')\n",
    "        tran_probs[init_dict[base_i_next], init_dict[base_i]] += 1"
   ]
  },
  {
   "cell_type": "code",
   "execution_count": 86,
   "id": "b31c0fc0-152d-4af4-a388-cf421291edaf",
   "metadata": {},
   "outputs": [
    {
     "data": {
      "text/plain": [
       "1.0"
      ]
     },
     "execution_count": 86,
     "metadata": {},
     "output_type": "execute_result"
    }
   ],
   "source": [
    "# sanity check for initial probabilities\n",
    "(init_probs/init_probs.sum()).sum()"
   ]
  },
  {
   "cell_type": "code",
   "execution_count": 88,
   "id": "7997aea7-a568-41a4-8457-d39ecaefaf02",
   "metadata": {},
   "outputs": [
    {
     "data": {
      "text/plain": [
       "array([1., 1., 1., 1., 1., 1., 1., 1.])"
      ]
     },
     "execution_count": 88,
     "metadata": {},
     "output_type": "execute_result"
    }
   ],
   "source": [
    "# sanity check for transition probabilities\n",
    "(tran_probs/tran_probs.sum(axis=1)[:, np.newaxis]).sum(axis=1)"
   ]
  },
  {
   "cell_type": "code",
   "execution_count": 95,
   "id": "f501fe13-3628-41cb-80a9-9e8141cc8384",
   "metadata": {},
   "outputs": [
    {
     "data": {
      "text/plain": [
       "array([[3.36673990e-01, 1.95908309e-01, 2.39228107e-01, 2.28186162e-01,\n",
       "        0.00000000e+00, 3.43276126e-06, 0.00000000e+00, 0.00000000e+00],\n",
       "       [3.47248782e-01, 2.44139710e-01, 4.30627657e-02, 3.65536322e-01,\n",
       "        0.00000000e+00, 1.24203267e-05, 0.00000000e+00, 0.00000000e+00],\n",
       "       [2.54927379e-01, 2.02469356e-01, 2.44062515e-01, 2.98531777e-01,\n",
       "        0.00000000e+00, 8.97388884e-06, 0.00000000e+00, 0.00000000e+00],\n",
       "       [2.67780742e-01, 1.67633343e-01, 2.27956537e-01, 3.36624168e-01,\n",
       "        0.00000000e+00, 5.21063363e-06, 0.00000000e+00, 0.00000000e+00],\n",
       "       [0.00000000e+00, 0.00000000e+00, 0.00000000e+00, 0.00000000e+00,\n",
       "        1.99077698e-01, 3.56594885e-01, 3.58744075e-01, 8.55833416e-02],\n",
       "       [0.00000000e+00, 0.00000000e+00, 0.00000000e+00, 0.00000000e+00,\n",
       "        1.89002316e-01, 3.56557190e-01, 2.92117022e-01, 1.62323473e-01],\n",
       "       [6.34074381e-04, 8.41119077e-04, 1.30696964e-03, 5.11141593e-04,\n",
       "        1.24278579e-01, 3.47272186e-01, 3.57223272e-01, 1.67932659e-01],\n",
       "       [0.00000000e+00, 0.00000000e+00, 0.00000000e+00, 0.00000000e+00,\n",
       "        1.14232051e-01, 2.74063718e-01, 4.14576625e-01, 1.97127605e-01]])"
      ]
     },
     "execution_count": 95,
     "metadata": {},
     "output_type": "execute_result"
    }
   ],
   "source": [
    "final_tran_probs = tran_probs/tran_probs.sum(axis=1)[:, np.newaxis]\n",
    "final_tran_probs"
   ]
  },
  {
   "cell_type": "code",
   "execution_count": 96,
   "id": "dffa64aa-216a-4393-8c02-64f94373e7b5",
   "metadata": {},
   "outputs": [
    {
     "data": {
      "text/plain": [
       "array([0.29997011, 0.19703748, 0.19670899, 0.30027983, 0.00093958,\n",
       "       0.00205016, 0.00206689, 0.00094697])"
      ]
     },
     "execution_count": 96,
     "metadata": {},
     "output_type": "execute_result"
    }
   ],
   "source": [
    "final_init_probs = init_probs/init_probs.sum()\n",
    "final_init_probs"
   ]
  },
  {
   "cell_type": "code",
   "execution_count": null,
   "id": "0c3833f7-dc8c-4934-864b-ce75c21854db",
   "metadata": {},
   "outputs": [],
   "source": []
  },
  {
   "cell_type": "code",
   "execution_count": null,
   "id": "e105ef26-5a0a-4f5f-a023-dedfae6f7263",
   "metadata": {},
   "outputs": [],
   "source": []
  },
  {
   "cell_type": "code",
   "execution_count": null,
   "id": "1fc82880-c6c0-4ca0-97d2-2786c63b6969",
   "metadata": {},
   "outputs": [],
   "source": []
  },
  {
   "cell_type": "code",
   "execution_count": 41,
   "id": "3f7a4c88-fc8c-4998-a36b-09d2430825aa",
   "metadata": {},
   "outputs": [
    {
     "name": "stdout",
     "output_type": "stream",
     "text": [
      "Original array:\n",
      "[[1 2 3]\n",
      " [4 5 6]\n",
      " [7 8 9]]\n",
      "\n",
      "Sum of elements per row:\n",
      "[ 6 15 24]\n"
     ]
    }
   ],
   "source": [
    "array_2d = np.array([[1, 2, 3],\n",
    "                     [4, 5, 6],\n",
    "                     [7, 8, 9]])\n",
    "\n",
    "# Calculate the sum of elements along each row (axis=1)\n",
    "row_sums = np.sum(array_2d, axis=1)\n",
    "\n",
    "print(\"Original array:\")\n",
    "print(array_2d)\n",
    "print(\"\\nSum of elements per row:\")\n",
    "print(row_sums)"
   ]
  },
  {
   "cell_type": "code",
   "execution_count": null,
   "id": "18bc7291-5878-4614-9334-5bf94e2a59e7",
   "metadata": {},
   "outputs": [],
   "source": []
  }
 ],
 "metadata": {
  "kernelspec": {
   "display_name": "Python 3 (ipykernel)",
   "language": "python",
   "name": "python3"
  },
  "language_info": {
   "codemirror_mode": {
    "name": "ipython",
    "version": 3
   },
   "file_extension": ".py",
   "mimetype": "text/x-python",
   "name": "python",
   "nbconvert_exporter": "python",
   "pygments_lexer": "ipython3",
   "version": "3.12.7"
  }
 },
 "nbformat": 4,
 "nbformat_minor": 5
}
