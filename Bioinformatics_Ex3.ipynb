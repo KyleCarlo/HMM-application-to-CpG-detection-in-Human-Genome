{
 "cells": [
  {
   "cell_type": "markdown",
   "id": "62909b51-9f81-4b29-825f-baa7f93fee2b",
   "metadata": {},
   "source": [
    "# Identifying CpG islands in long stretch of Human DNA"
   ]
  },
  {
   "cell_type": "markdown",
   "id": "62511feb-7eaa-4ea0-a0fc-02f4f69e8662",
   "metadata": {},
   "source": [
    "## Primary Authors:\n",
    "- Go, Daphne Janelyn\n",
    "- Gilo, Joshua\n",
    "- Lasala, Kyle Carlo"
   ]
  },
  {
   "cell_type": "markdown",
   "id": "0b5c9a7d-4d86-45fa-b516-a47a4937e2e1",
   "metadata": {},
   "source": [
    "## Objectives: \n",
    "1. Implement an HMM to identify CpG islands in a stretch of human genome sequence\n",
    "2. Compare the obtained CpG islands against other functional annotations"
   ]
  },
  {
   "cell_type": "markdown",
   "id": "24fcdacf-b3f4-433f-9ed3-33ec720a851b",
   "metadata": {},
   "source": [
    "In this notebook, we will focus only for ***chromosomes 18 (chr18) and 19 (chr19)***. To do this, we must download the transcript sequences of the [human from the Gencode website](https://www.gencodegenes.org/human/) in *fasta* format. Then, we will filter the transcript sequences to chr18 and chr19 only. \n",
    "\n",
    "Since we want to create an HMM to identify CpG islands, we must have some reference to build the HMM. In this case, chr18 will be the reference to build the HMM, and chr19 will be the test. We must then download the annotations which is available from this [website](https://genome.ucsc.edu/cgi-bin/hgTables).\n",
    "\n",
    "Telomeres and centromeres are not included in CpG island annotation because they are composed of repetitive DNA sequences that often contain many CG dinucleotides, but these do not reflect the role of DNA methylation on CpG islands in promoter silencing [1]. CpG islands are commonly located near gene promoters and are important for regulating gene expression—whether a gene is turned on or off. This regulation is often linked to DNA methylation, where methyl groups are added to cytosines in CpG sites, potentially silencing a gene [2].\n",
    "\n",
    "[1] Illingworth, R. S., & Bird, A. P. (2009). CpG islands - “A rough guide.” FEBS Letters, 583(11), 1713–1720. https://doi.org/10.1016/j.febslet.2009.04.012\n",
    "\n",
    "[2]Takai, D., & Jones, P. A. (2002). Comprehensive analysis of CpG islands in human chromosomes 21 and 22. Proceedings of the National Academy of Sciences, 99(6), 3740–3745. https://doi.org/10.1073/pnas.052410099"
   ]
  },
  {
   "cell_type": "markdown",
   "id": "c6404500-9a48-48d3-afb6-b59ceabf2a32",
   "metadata": {},
   "source": [
    "## Prerequisites: Downloading the necessary data and importing the libraries."
   ]
  },
  {
   "cell_type": "markdown",
   "id": "817f037f-3687-465e-acd8-f807df1c89f9",
   "metadata": {},
   "source": [
    "#### 1. Transcript sequences of human\n",
    "- Download the transcript sequences in fasta format through this [link](https://ftp.ebi.ac.uk/pub/databases/gencode/Gencode_human/release_48/gencode.v48.annotation.gtf.gz).\n",
    "- Extract the compressed file.\n",
    "- Save the `.fa` file in the same directory to this notebook.\n",
    "#### 2. CpG annotations of chr18\n",
    "- Visit this [link](https://genome.ucsc.edu/cgi-bin/hgTables?hgsid=2704278040_OaSFhQdDeBEVFapezdB5gB3xi4A8&clade=mammal&org=Human&db=hg38&hgta_group=regulation&hgta_track=knownGene&hgta_table=0&hgta_regionType=range&position=chr18%3A1-80%2C373%2C285&hgta_outputType=primaryTable&hgta_outFileName=chr18_cpg.csv) to download the CpG annotations for chr18.\n",
    "- In the `Retrieve and display data` section, click `Get Output`.\n",
    "- Create a folder in the same directory to this notebook and name it as `chr18`. This will be the folder to store all necessary annotations for chr18.\n",
    "- Put the downloaded file to the created `chr18` folder.\n",
    "- Rename the file to `cpg.csv`.\n",
    "#### 3. CpG annotations of chr19\n",
    "- Visit this [link](https://genome.ucsc.edu/cgi-bin/hgTables?hgsid=2704300444_QgqWfKbdKoFV0vuiiN7MuzCQzc7y&clade=mammal&org=Human&db=hg38&hgta_group=regulation&hgta_track=crossTissueMapsTissueCellType&hgta_table=0&hgta_regionType=range&position=chr19%3A1-58%2C617%2C616&hgta_outputType=primaryTable&hgta_outFileName=chr19_cpg.csv) to download the CpG annotations .for chr19.\n",
    "- In the `Retrieve and display data` section, click `Get Output`\n",
    "- Create a folder in the same directory to this notebook and name it as `chr19`. This will be the folder to store all necessary annotations for chr19.\n",
    "- Put the downloaded file to the created `chr19` folder.\n",
    "- Rename the file to `cpg.csv`.\n",
    "#### 4. Telomeres annotations of chr18\n",
    "- Visit this [link](https://genome.ucsc.edu/cgi-bin/hgTables?hgsid=2706253784_Nxuk8VF2q4Ow1XXIujef5nIApjB6&clade=mammal&org=Human&db=hg38&hgta_group=map&hgta_track=gap&hgta_table=0&hgta_regionType=range&position=chr18%3A1-80%2C373%2C285&hgta_outputType=wigData&hgta_outFileName=chr18_telo.csv).\n",
    "- In the `Retrieve and display data` section, click `Get Output`.\n",
    "- Put the downloaded file in the `chr18` folder. Note that we are getting the gaps annotation, not just the telomeres. This will be further processed in the provided code later on to get only the telomeres.\n",
    "- Rename the file to `telomeres.csv`.\n",
    "#### 5. Telomeres annotations of chr19\n",
    "- Visit this [link](https://genome.ucsc.edu/cgi-bin/hgTables?hgsid=2706253784_Nxuk8VF2q4Ow1XXIujef5nIApjB6&clade=mammal&org=Human&db=hg38&hgta_group=map&hgta_track=gap&hgta_table=0&hgta_regionType=range&position=chr19&hgta_outputType=primaryTable&hgta_outFileName=chr19_telo.csv).\n",
    "- In the `Retrieve and display data` section, click `Get Output`.\n",
    "- Put the downloaded file in the `chr18` folder. Note that we are getting the gaps annotation, not just the telomeres. This will be further processed in the provided code later on to get only the telomeres.\n",
    "- Rename the file to `telomeres.csv`.\n",
    "#### 6. Centromeres annotations of chr18\n",
    "- Visit this [link](https://genome.ucsc.edu/cgi-bin/hgTables?hgsid=2704300444_QgqWfKbdKoFV0vuiiN7MuzCQzc7y&clade=mammal&org=Human&db=hg38&hgta_group=map&hgta_track=centromeres&hgta_table=0&hgta_regionType=range&position=chr18%3A1-58%2C617%2C616&hgta_outputType=primaryTable&hgta_outFileName=chr18_centromeres.csv) to download the centromere annotations for chr18.\n",
    "- In the `Retrieve and display data` section, click `Get Output`.\n",
    "- Put the downloaded file in the `chr18` folder.\n",
    "- Rename the file to `centromeres.csv`.\n",
    "#### 7. Centromeres annotations of chr19 \n",
    "- Visit this [link](https://genome.ucsc.edu/cgi-bin/hgTables?hgsid=2704300444_QgqWfKbdKoFV0vuiiN7MuzCQzc7y&clade=mammal&org=Human&db=hg38&hgta_group=map&hgta_track=centromeres&hgta_table=0&hgta_regionType=range&position=chr19%3A1-58%2C617%2C616&hgta_outputType=wigData&hgta_outFileName=chr19_centromeres.csv) to download the centromere annotations for chr19.\n",
    "- In the `Retrieve and display data` section, click `Get Output`.\n",
    "- Put the downloaded file in the `chr19` folder.\n",
    "- Rename the file to `centromeres.csv`.\n",
    "#### 8. Gene locations of chr19\n",
    "- Visit this [link](https://genome.ucsc.edu/cgi-bin/hgTables?hgsid=2709118318_TvMkTJpaRqF0JQGkeJInx9movsdY&clade=mammal&org=Human&db=hg38&hgta_group=genes&hgta_track=knownGene&hgta_table=0&hgta_regionType=range&position=chr19%3A1-58%2C617%2C616&hgta_outputType=primaryTable&hgta_outFileName=gene_chr19.csv)\n",
    "- In the `Retrieve and display data` section, click `Get Output`.\n",
    "- Put the downloaded file in the root directory."
   ]
  },
  {
   "cell_type": "code",
   "execution_count": null,
   "id": "b8396d7d-5b0b-4e47-9f9c-1c578a7f0c6e",
   "metadata": {},
   "outputs": [
    {
     "name": "stdout",
     "output_type": "stream",
     "text": [
      "Defaulting to user installation because normal site-packages is not writeable\n",
      "Collecting biopython\n",
      "  Downloading biopython-1.85-cp312-cp312-win_amd64.whl.metadata (13 kB)\n",
      "Requirement already satisfied: numpy in c:\\programdata\\anaconda3\\lib\\site-packages (from biopython) (1.26.4)\n",
      "Downloading biopython-1.85-cp312-cp312-win_amd64.whl (2.8 MB)\n",
      "   ---------------------------------------- 0.0/2.8 MB ? eta -:--:--\n",
      "   -------------- ------------------------- 1.0/2.8 MB 8.5 MB/s eta 0:00:01\n",
      "   -------------------------- ------------- 1.8/2.8 MB 3.5 MB/s eta 0:00:01\n",
      "   ----------------------------- ---------- 2.1/2.8 MB 3.8 MB/s eta 0:00:01\n",
      "   ---------------------------------------- 2.8/2.8 MB 3.2 MB/s eta 0:00:00\n",
      "Installing collected packages: biopython\n",
      "Successfully installed biopython-1.85\n"
     ]
    }
   ],
   "source": [
    "!pip install biopython"
   ]
  },
  {
   "cell_type": "code",
   "execution_count": 1,
   "id": "fbe812dd",
   "metadata": {},
   "outputs": [
    {
     "name": "stdout",
     "output_type": "stream",
     "text": [
      "Defaulting to user installation because normal site-packages is not writeable\n",
      "Collecting hmmlearn\n",
      "  Downloading hmmlearn-0.3.3-cp312-cp312-win_amd64.whl.metadata (3.1 kB)\n",
      "Requirement already satisfied: numpy>=1.10 in c:\\programdata\\anaconda3\\lib\\site-packages (from hmmlearn) (1.26.4)\n",
      "Requirement already satisfied: scikit-learn!=0.22.0,>=0.16 in c:\\programdata\\anaconda3\\lib\\site-packages (from hmmlearn) (1.5.1)\n",
      "Requirement already satisfied: scipy>=0.19 in c:\\programdata\\anaconda3\\lib\\site-packages (from hmmlearn) (1.13.1)\n",
      "Requirement already satisfied: joblib>=1.2.0 in c:\\programdata\\anaconda3\\lib\\site-packages (from scikit-learn!=0.22.0,>=0.16->hmmlearn) (1.4.2)\n",
      "Requirement already satisfied: threadpoolctl>=3.1.0 in c:\\programdata\\anaconda3\\lib\\site-packages (from scikit-learn!=0.22.0,>=0.16->hmmlearn) (3.5.0)\n",
      "Downloading hmmlearn-0.3.3-cp312-cp312-win_amd64.whl (127 kB)\n",
      "Installing collected packages: hmmlearn\n",
      "Successfully installed hmmlearn-0.3.3\n"
     ]
    }
   ],
   "source": [
    "!pip install hmmlearn"
   ]
  },
  {
   "cell_type": "code",
   "execution_count": 4,
   "id": "bb730d12-b431-43aa-a2ab-df3888ba9089",
   "metadata": {},
   "outputs": [],
   "source": [
    "import pandas as pd\n",
    "import numpy as np\n",
    "from Bio import SeqIO\n",
    "from hmmlearn import hmm\n",
    "from sklearn.metrics import confusion_matrix, ConfusionMatrixDisplay\n",
    "import matplotlib.pyplot as plt"
   ]
  },
  {
   "cell_type": "markdown",
   "id": "e262bf84-80cf-47ca-a1eb-33b6f573c133",
   "metadata": {},
   "source": [
    "### Read the data and check for overlapping regions"
   ]
  },
  {
   "cell_type": "markdown",
   "id": "1178252b-4bdc-4f9c-8e1a-782f7366144f",
   "metadata": {},
   "source": [
    "Function that helps read fasta files"
   ]
  },
  {
   "cell_type": "code",
   "execution_count": 5,
   "id": "c6a48964-26aa-49b5-a700-ac02afd89906",
   "metadata": {},
   "outputs": [],
   "source": [
    "def read_fasta(file_path, filter_header=None):\n",
    "    sequences = ''\n",
    "    for record in SeqIO.parse(file_path, \"fasta\"):\n",
    "        if filter_header and filter_header not in record.id:\n",
    "            continue\n",
    "        sequences = record.seq\n",
    "    return sequences"
   ]
  },
  {
   "cell_type": "markdown",
   "id": "9c1784b4-2db4-465e-b24d-3a3f04c434b1",
   "metadata": {},
   "source": [
    "Function that helps read the annotation files"
   ]
  },
  {
   "cell_type": "code",
   "execution_count": 6,
   "id": "6582a00d-0bb8-4a26-853f-15448172128a",
   "metadata": {},
   "outputs": [],
   "source": [
    "def read_centro_telo(file_path_centro, file_path_telo, file_path_cpg):\n",
    "    centro = pd.read_csv(file_path_centro)\n",
    "    centro.drop('#\"bin\"', axis=1, inplace=True)\n",
    "    \n",
    "    telo = pd.read_csv(file_path_telo)\n",
    "    telo.drop('#bin', axis=1, inplace=True)\n",
    "    telo = telo[telo['type'] == 'telomere']\n",
    "    \n",
    "    cpg = pd.read_csv(file_path_cpg)\n",
    "    cpg.drop('#\"bin\"', axis=1, inplace=True)\n",
    "    \n",
    "    return centro, telo, cpg"
   ]
  },
  {
   "cell_type": "markdown",
   "id": "e4df7d72-7be1-4328-a457-a7fb764e2055",
   "metadata": {},
   "source": [
    "Function that checks if there is an overlapping telomeres, centromeres, or CpG islands."
   ]
  },
  {
   "cell_type": "code",
   "execution_count": 7,
   "id": "5b0c53c6-7f3b-477c-9a0b-cb00c9a7ca3d",
   "metadata": {},
   "outputs": [],
   "source": [
    "def check_overlap(centro, telo, cpg):\n",
    "    telo.sort_values('chromStart', inplace=True)\n",
    "    \n",
    "    start_telo = telo[['chromStart', 'chromEnd']].iloc[0, 1]\n",
    "    end_telo = telo[['chromStart', 'chromEnd']].iloc[1, 0]\n",
    "\n",
    "    if len(cpg[cpg['chromStart'] < start_telo]) > 0 or len(cpg[cpg['chromEnd'] > end_telo]) > 0:\n",
    "        print(\"There is a CpG island overlapping with Telomeric regions.\")\n",
    "    else:\n",
    "        print(\"There is NO overlapping CpG island with Telomeric regions.\")\n",
    "        \n",
    "    centro.sort_values('chromStart', inplace=True)\n",
    "    min_centro = centro[['chromStart','chromEnd']].iloc[0,0]\n",
    "    max_centro = centro[['chromStart','chromEnd']].iloc[len(centro)-1, 1]\n",
    "\n",
    "    if len(cpg[(cpg['chromStart'] > min_centro) & (cpg['chromEnd'] < max_centro)]) > 0:\n",
    "        print(\"Do a manual inspection because there is a CpG island in between the Centromeric regions.\")\n",
    "    else:\n",
    "        print(\"There is NO overlapping CpG island with Centromeric regions.\")"
   ]
  },
  {
   "cell_type": "markdown",
   "id": "8e119c24-ce15-468b-831f-b7c5ff6e8960",
   "metadata": {},
   "source": [
    "Reads the transcript sequences of chr18 and its corresponding annotations"
   ]
  },
  {
   "cell_type": "code",
   "execution_count": 9,
   "id": "9446a2b9-faa9-4d9a-a188-7e46431eaafb",
   "metadata": {},
   "outputs": [],
   "source": [
    "seq = read_fasta('./GRCh38.p14.genome.fa', 'chr18')\n",
    "centro18_df, telo18_df, cpg18_df = read_centro_telo('./chr18/centromeres.csv','./chr18/telomeres.csv', './chr18/cpg.csv')"
   ]
  },
  {
   "cell_type": "markdown",
   "id": "39920bf1-402e-43b8-8064-7f187f9da2b0",
   "metadata": {},
   "source": [
    "Checks for overlapping regions"
   ]
  },
  {
   "cell_type": "code",
   "execution_count": 10,
   "id": "9de5c7b0-8838-418b-bc63-6147592c5cdc",
   "metadata": {},
   "outputs": [
    {
     "name": "stdout",
     "output_type": "stream",
     "text": [
      "There is NO overlapping CpG island with Telomeric regions.\n",
      "There is NO overlapping CpG island with Centromeric regions.\n"
     ]
    }
   ],
   "source": [
    "check_overlap(centro18_df, telo18_df, cpg18_df)"
   ]
  },
  {
   "cell_type": "markdown",
   "id": "c5fb3d14-4f4e-4d28-bd24-acbe2d657300",
   "metadata": {},
   "source": [
    "### Construct the transition probabilities of HMM using chr18"
   ]
  },
  {
   "cell_type": "markdown",
   "id": "2341165c-09fc-458f-81a6-f532abd3c565",
   "metadata": {},
   "source": [
    "Function that checks if the current state is in the given region"
   ]
  },
  {
   "cell_type": "code",
   "execution_count": 12,
   "id": "4a22ba8a-f46f-46cb-9e74-e35324fea7df",
   "metadata": {},
   "outputs": [],
   "source": [
    "def check_in_start_end(i, index, start_end, in_):\n",
    "    if index < len(start_end):\n",
    "        if not in_ and i >= start_end[index]:\n",
    "            return True, index + 1\n",
    "        if in_ and i >= start_end[index]:\n",
    "            return False, index + 1\n",
    "    return in_, index    "
   ]
  },
  {
   "cell_type": "markdown",
   "id": "33b255e9-1d4d-42af-8587-686dceb20e8a",
   "metadata": {},
   "source": [
    "Linearly traverse the sequence and count each states and transitions"
   ]
  },
  {
   "cell_type": "code",
   "execution_count": 13,
   "id": "ae0cae75-0430-459d-853f-b71f5c3c5252",
   "metadata": {},
   "outputs": [],
   "source": [
    "# check regions for ith base\n",
    "in_cpg = False\n",
    "cpg_index = 0\n",
    "\n",
    "in_centro = False\n",
    "centro_index = 0\n",
    "\n",
    "in_telo = False\n",
    "telo_index = 0\n",
    "\n",
    "# check regions for (i+1)th base\n",
    "in_cpg_next = False\n",
    "cpg_index_next = 0\n",
    "\n",
    "in_centro_next = False\n",
    "centro_index_next = 0\n",
    "\n",
    "in_telo_next = False\n",
    "telo_index_next = 0\n",
    "\n",
    "# flatten the regions\n",
    "telo_start_end = telo18_df.sort_values('chromStart')[['chromStart', 'chromEnd']].to_numpy().flatten()\n",
    "centro_start_end = centro18_df.sort_values('chromStart')[['chromStart', 'chromEnd']].to_numpy().flatten()\n",
    "cpg_start_end = cpg18_df.sort_values('chromStart')[['chromStart', 'chromEnd']].to_numpy().flatten()\n",
    "\n",
    "# Format: A-, G-, C-, T-, A+, G+, C+, T+\n",
    "init = np.zeros(8) # data structure for initial probabilities\n",
    "tran = np.zeros((8,8)) # data structure for transition probabilities\n",
    "\n",
    "# base to index\n",
    "state_index = {\n",
    "    'A-': 0,\n",
    "    'G-': 1,\n",
    "    'C-': 2,\n",
    "    'T-': 3,\n",
    "    'A+': 4,\n",
    "    'G+': 5,\n",
    "    'C+': 6,\n",
    "    'T+': 7,\n",
    "}\n",
    "\n",
    "# linearly traverse the sequence\n",
    "for i in range(len(seq)):\n",
    "    # check if in telomeric region\n",
    "    in_telo, telo_index = check_in_start_end(i, telo_index, telo_start_end, in_telo)\n",
    "    if in_telo:\n",
    "        continue\n",
    "\n",
    "    # check if in centromeric region\n",
    "    in_centro, centro_index = check_in_start_end(i, centro_index, centro_start_end, in_centro)\n",
    "    if in_centro:\n",
    "        continue\n",
    "\n",
    "    # check if in CpG island\n",
    "    in_cpg, cpg_index = check_in_start_end(i, cpg_index, cpg_start_end, in_cpg)\n",
    "\n",
    "    # avoid ambiguous bases N\n",
    "    if seq[i] == 'N':\n",
    "        continue\n",
    "\n",
    "    # counting the frequency of each Markov States\n",
    "    base_i = seq[i] + ('+' if in_cpg else '-')\n",
    "    init[state_index[base_i]] += 1\n",
    "\n",
    "    if i + 1 < len(seq):\n",
    "        # check if next index in telomeric region\n",
    "        in_telo_next, telo_index_next = check_in_start_end(i + 1, telo_index_next, telo_start_end, in_telo_next)\n",
    "        if in_telo_next:\n",
    "            continue\n",
    "\n",
    "        # check if next base in centromeric region\n",
    "        in_centro_next, centro_index_next = check_in_start_end(i + 1, centro_index_next, centro_start_end, in_centro_next)\n",
    "        if in_centro_next:\n",
    "            continue\n",
    "\n",
    "        # check if next base in CpG island\n",
    "        in_cpg_next, cpg_index_next = check_in_start_end(i + 1, cpg_index_next, cpg_start_end, in_cpg_next)\n",
    "\n",
    "        # avoid ambiguous bases N\n",
    "        if seq[i+1] == 'N':\n",
    "            continue\n",
    "\n",
    "        base_i_next = seq[i + 1] + ('+' if in_cpg_next else '-')\n",
    "        tran[state_index[base_i_next], state_index[base_i]] += 1"
   ]
  },
  {
   "cell_type": "markdown",
   "id": "547b53fc-0779-4d98-bc8b-233440d93403",
   "metadata": {},
   "source": [
    "Construct the initial probabilities"
   ]
  },
  {
   "cell_type": "code",
   "execution_count": 16,
   "id": "dffa64aa-216a-4393-8c02-64f94373e7b5",
   "metadata": {},
   "outputs": [
    {
     "data": {
      "text/plain": [
       "array([0.29997011, 0.19703748, 0.19670899, 0.30027983, 0.00093958,\n",
       "       0.00205016, 0.00206689, 0.00094697])"
      ]
     },
     "execution_count": 16,
     "metadata": {},
     "output_type": "execute_result"
    }
   ],
   "source": [
    "init_probs = init/init.sum()\n",
    "init_probs"
   ]
  },
  {
   "cell_type": "markdown",
   "id": "e7be1d01-6bdf-402e-a0dc-82285e4ae8eb",
   "metadata": {},
   "source": [
    "Construct the transition probabilities"
   ]
  },
  {
   "cell_type": "code",
   "execution_count": 17,
   "id": "f501fe13-3628-41cb-80a9-9e8141cc8384",
   "metadata": {},
   "outputs": [
    {
     "data": {
      "text/plain": [
       "array([[3.36673990e-01, 1.95908309e-01, 2.39228107e-01, 2.28186162e-01,\n",
       "        0.00000000e+00, 3.43276126e-06, 0.00000000e+00, 0.00000000e+00],\n",
       "       [3.47248782e-01, 2.44139710e-01, 4.30627657e-02, 3.65536322e-01,\n",
       "        0.00000000e+00, 1.24203267e-05, 0.00000000e+00, 0.00000000e+00],\n",
       "       [2.54927379e-01, 2.02469356e-01, 2.44062515e-01, 2.98531777e-01,\n",
       "        0.00000000e+00, 8.97388884e-06, 0.00000000e+00, 0.00000000e+00],\n",
       "       [2.67780742e-01, 1.67633343e-01, 2.27956537e-01, 3.36624168e-01,\n",
       "        0.00000000e+00, 5.21063363e-06, 0.00000000e+00, 0.00000000e+00],\n",
       "       [0.00000000e+00, 0.00000000e+00, 0.00000000e+00, 0.00000000e+00,\n",
       "        1.99077698e-01, 3.56594885e-01, 3.58744075e-01, 8.55833416e-02],\n",
       "       [0.00000000e+00, 0.00000000e+00, 0.00000000e+00, 0.00000000e+00,\n",
       "        1.89002316e-01, 3.56557190e-01, 2.92117022e-01, 1.62323473e-01],\n",
       "       [6.34074381e-04, 8.41119077e-04, 1.30696964e-03, 5.11141593e-04,\n",
       "        1.24278579e-01, 3.47272186e-01, 3.57223272e-01, 1.67932659e-01],\n",
       "       [0.00000000e+00, 0.00000000e+00, 0.00000000e+00, 0.00000000e+00,\n",
       "        1.14232051e-01, 2.74063718e-01, 4.14576625e-01, 1.97127605e-01]])"
      ]
     },
     "execution_count": 17,
     "metadata": {},
     "output_type": "execute_result"
    }
   ],
   "source": [
    "tran_probs = tran/tran.sum(axis=1)[:, np.newaxis]\n",
    "tran_probs"
   ]
  },
  {
   "cell_type": "markdown",
   "id": "885baf37-f6d5-4a56-9ddc-a47edb2e9ac6",
   "metadata": {},
   "source": [
    "Sanity check"
   ]
  },
  {
   "cell_type": "code",
   "execution_count": 18,
   "id": "b31c0fc0-152d-4af4-a388-cf421291edaf",
   "metadata": {
    "scrolled": true
   },
   "outputs": [
    {
     "name": "stdout",
     "output_type": "stream",
     "text": [
      "Total should be 1\n",
      "1.0\n",
      "All elements must total to 1\n",
      "[1. 1. 1. 1. 1. 1. 1. 1.]\n"
     ]
    }
   ],
   "source": [
    "# sanity check for initial probabilities\n",
    "print(\"Total should be 1\")\n",
    "print(init_probs.sum())\n",
    "# sanity check for transition probabilities\n",
    "print(\"All elements must total to 1\")\n",
    "print(tran_probs.sum(axis=1))"
   ]
  },
  {
   "cell_type": "markdown",
   "id": "b53e9682-3361-4d24-92b6-f65792b185d1",
   "metadata": {},
   "source": [
    "Checkpoint"
   ]
  },
  {
   "cell_type": "code",
   "execution_count": 20,
   "id": "0c3833f7-dc8c-4934-864b-ce75c21854db",
   "metadata": {},
   "outputs": [],
   "source": [
    "# Checkpoint for transition probabilities\n",
    "np.savetxt(\"transition_probs.csv\", tran_probs, delimiter=\",\")\n",
    "# Checkpoint for initial probabilities\n",
    "np.savetxt(\"initial_probs.csv\", init_probs, delimiter=\",\")"
   ]
  },
  {
   "cell_type": "markdown",
   "id": "30928453",
   "metadata": {},
   "source": [
    "### Extract regions of chr19 WITHOUT telomere and centromere"
   ]
  },
  {
   "cell_type": "markdown",
   "id": "ce02d7e4-a499-43b9-ad34-48041f110748",
   "metadata": {},
   "source": [
    "Function that checks if the current state is in the given region"
   ]
  },
  {
   "cell_type": "code",
   "execution_count": 61,
   "id": "0053caca-7dba-467d-b792-ca29d3f9ce06",
   "metadata": {},
   "outputs": [],
   "source": [
    "def check_in_start_end(i, index, start_end, in_):\n",
    "    if index < len(start_end):\n",
    "        if not in_ and i >= start_end[index]:\n",
    "            return True, index + 1\n",
    "        if in_ and i >= start_end[index]:\n",
    "            return False, index + 1\n",
    "    return in_, index    "
   ]
  },
  {
   "cell_type": "markdown",
   "id": "94fd044a-7950-4dd4-b217-0373e6a999d6",
   "metadata": {},
   "source": [
    "Function that searches for first index without ambiguous base N"
   ]
  },
  {
   "cell_type": "code",
   "execution_count": 62,
   "id": "69867a75-1745-45af-a882-558f125793e4",
   "metadata": {},
   "outputs": [],
   "source": [
    "def find_first_valid_index(seq):\n",
    "    for i, base in enumerate(seq):\n",
    "        if base != 'N':\n",
    "            return i\n",
    "    return -1"
   ]
  },
  {
   "cell_type": "markdown",
   "id": "8df1e5b4-01ed-419d-9275-f3cdaeba4c9e",
   "metadata": {},
   "source": [
    "Function that searches for first index with N"
   ]
  },
  {
   "cell_type": "code",
   "execution_count": 63,
   "id": "8bd8dc5a-99ed-46aa-9f53-e92cf48d14ba",
   "metadata": {},
   "outputs": [],
   "source": [
    "def find_first_invalid_index(seq):\n",
    "    for i, base in enumerate(seq):\n",
    "        if base == 'N':\n",
    "            return i\n",
    "    return -1"
   ]
  },
  {
   "cell_type": "markdown",
   "id": "ca774c4f-78d8-480e-9993-6ce3c8086c2e",
   "metadata": {},
   "source": [
    "Function that finds a subsequence such that\n",
    "- end of first telomere region- start of first centromere region\n",
    "- skip all centromere regions \n",
    "- end of last centromere - start of second/last telomere region\n",
    "\n",
    "A telomere is a region of repetitive DNA sequences at the end of a chromosome. Both chr18 and chr19 have only two telomere regions."
   ]
  },
  {
   "cell_type": "code",
   "execution_count": 64,
   "id": "37ee9efa-8a61-4818-a6cb-082eb4889abf",
   "metadata": {},
   "outputs": [],
   "source": [
    "def find_valid_subsequence(seq):\n",
    "    start_index = find_first_valid_index(seq)\n",
    "    if start_index == -1:\n",
    "        return 0, 0, ''\n",
    "\n",
    "    end_index = find_first_invalid_index(seq[start_index:])\n",
    "    if end_index == -1:\n",
    "        return start_index, len(seq), seq[start_index:]\n",
    "\n",
    "    end_index += start_index\n",
    "    return start_index, end_index, seq[start_index:end_index]"
   ]
  },
  {
   "cell_type": "markdown",
   "id": "5b9ade86-477d-4ba3-bcdd-9c060581254c",
   "metadata": {},
   "source": [
    "Reads the transcript sequences of chr19 and its corresponding annotations"
   ]
  },
  {
   "cell_type": "code",
   "execution_count": 65,
   "id": "e8f137d5",
   "metadata": {},
   "outputs": [],
   "source": [
    "seq_test = read_fasta('./GRCh38.p14.genome.fa', 'chr19')\n",
    "centro19_df, telo19_df, cpg19_df = read_centro_telo('./chr19/centromeres.csv','./chr19/telomeres.csv', './chr19/cpg.csv')"
   ]
  },
  {
   "cell_type": "markdown",
   "id": "ba568e8e-c5e6-4ebf-aa5a-72fd5fed77e8",
   "metadata": {},
   "source": [
    "Check for overlapping regions"
   ]
  },
  {
   "cell_type": "code",
   "execution_count": 66,
   "id": "534d1c8a",
   "metadata": {},
   "outputs": [
    {
     "name": "stdout",
     "output_type": "stream",
     "text": [
      "There is NO overlapping CpG island with Telomeric regions.\n",
      "There is NO overlapping CpG island with Centromeric regions.\n"
     ]
    }
   ],
   "source": [
    "check_overlap(centro19_df, telo19_df, cpg19_df)"
   ]
  },
  {
   "cell_type": "markdown",
   "id": "3b5cf19b-4bbb-49d6-b4e5-16acb0b3350d",
   "metadata": {},
   "source": [
    "Extract 2 subsequences from chr19 "
   ]
  },
  {
   "cell_type": "code",
   "execution_count": 67,
   "id": "a16cbcba",
   "metadata": {},
   "outputs": [],
   "source": [
    "# Extract start of the first centromere and end of last centromere\n",
    "start_centro = centro19_df['chromStart'][0]\n",
    "end_centro = centro19_df['chromEnd'].iloc[-1]\n",
    "\n",
    "# Extract end of the first telomere and start of the last telomere\n",
    "end_first_telo = telo19_df['chromEnd'].iloc[0]\n",
    "start_last_telo = telo19_df['chromStart'].iloc[-1]\n",
    "\n",
    "# Extract 2 subsequences \n",
    "seq_test_1 = seq_test[end_first_telo: start_centro] # end of first telomere until start of first centromere\n",
    "seq_test_2 = seq_test[end_centro: start_last_telo]  # end of last centromere until start of last telomere"
   ]
  },
  {
   "cell_type": "markdown",
   "id": "de8f6605-958b-4c2b-ad06-11576968ec88",
   "metadata": {},
   "source": [
    "Checkpoint"
   ]
  },
  {
   "cell_type": "code",
   "execution_count": 68,
   "id": "d336299d",
   "metadata": {},
   "outputs": [],
   "source": [
    "start_index_1, end_index_1, valid_subsequence_1 = find_valid_subsequence(seq_test_1)\n",
    "start_index_2, end_index_2, valid_subsequence_2 = find_valid_subsequence(seq_test_2)\n",
    "\n",
    "with open('seq_test_1_withoutN.fasta', 'w') as f:\n",
    "    f.write(f'>seq_test_1_withoutN\\tindex {end_first_telo + start_index_1}:{end_first_telo+ end_index_1}\\n{valid_subsequence_1}\\n')\n",
    "with open('seq_test_2_withoutN.fasta', 'w') as f:\n",
    "    f.write(f'>seq_test_2_withoutN\\tindex {end_centro + start_index_2}:{end_centro+ end_index_2}\\n{valid_subsequence_2}\\n')"
   ]
  },
  {
   "cell_type": "code",
   "execution_count": 70,
   "id": "43c40ad6-87ab-49ae-a999-d83b3dd34f12",
   "metadata": {},
   "outputs": [
    {
     "data": {
      "text/plain": [
       "24388980"
      ]
     },
     "execution_count": 70,
     "metadata": {},
     "output_type": "execute_result"
    }
   ],
   "source": [
    "end_index_1 - start_index_1"
   ]
  },
  {
   "cell_type": "markdown",
   "id": "eec20475",
   "metadata": {},
   "source": [
    "### Build HMM"
   ]
  },
  {
   "cell_type": "code",
   "execution_count": 5,
   "id": "18bc7291-5878-4614-9334-5bf94e2a59e7",
   "metadata": {},
   "outputs": [],
   "source": [
    "states = ['A-', 'G-', 'C-', 'T-', 'A+', 'G+', 'C+', 'T+']\n",
    "n_states = len(states)"
   ]
  },
  {
   "cell_type": "code",
   "execution_count": 6,
   "id": "1f42e26d",
   "metadata": {},
   "outputs": [],
   "source": [
    "transition_probs = np.loadtxt(\"transition_probs.csv\", delimiter=\",\")\n",
    "initial_probs = np.loadtxt(\"initial_probs.csv\", delimiter=\",\")\n",
    "emit_probs = np.concatenate([np.eye(4), np.eye(4)])"
   ]
  },
  {
   "cell_type": "code",
   "execution_count": 7,
   "id": "7463a274",
   "metadata": {},
   "outputs": [],
   "source": [
    "model = hmm.CategoricalHMM(n_components=n_states, verbose=True)\n",
    "model.startprob_= initial_probs\n",
    "model.emissionprob_ = emit_probs\n",
    "model.transmat_ = transition_probs"
   ]
  },
  {
   "cell_type": "markdown",
   "id": "d89b4392-df9b-4a75-851d-36ae23e16e74",
   "metadata": {},
   "source": [
    "### Decode using the HMM"
   ]
  },
  {
   "cell_type": "markdown",
   "id": "079cc09b-57e0-4b40-a480-f87d998a0a0c",
   "metadata": {},
   "source": [
    "Function that converts letters into numbers and stores into a numpy array"
   ]
  },
  {
   "cell_type": "code",
   "execution_count": 8,
   "id": "bda4992d",
   "metadata": {},
   "outputs": [],
   "source": [
    "def get_gene_sequence(filename):\n",
    "    file = read_fasta(filename)\n",
    "    gene = str(file)            \n",
    "    out = []\n",
    "    \n",
    "    for char in gene :\n",
    "        if char == \"A\":\n",
    "            out.append([0])\n",
    "        elif char == \"G\":\n",
    "            out.append([1])\n",
    "        elif char == \"C\":\n",
    "            out.append([2])\n",
    "        else:\n",
    "            out.append([3])\n",
    "            \n",
    "    return np.array(out)"
   ]
  },
  {
   "cell_type": "markdown",
   "id": "39ccf848-9f71-46fc-ae74-c6e87b6147d8",
   "metadata": {},
   "source": [
    "Reads the selected stretches of chr19"
   ]
  },
  {
   "cell_type": "code",
   "execution_count": 9,
   "id": "51740687",
   "metadata": {},
   "outputs": [],
   "source": [
    "test_sequence_np_1 = get_gene_sequence(\"seq_test_1_withoutN.fasta\")"
   ]
  },
  {
   "cell_type": "code",
   "execution_count": 10,
   "id": "5edb4502-7615-4c0d-bac5-904a7d059710",
   "metadata": {},
   "outputs": [],
   "source": [
    "test_sequence_np_2 = get_gene_sequence(\"seq_test_2_withoutN.fasta\")"
   ]
  },
  {
   "cell_type": "markdown",
   "id": "acc7981d-edda-459a-9ce2-acfd67c1506d",
   "metadata": {},
   "source": [
    "Decode using Viterbi Algorithm"
   ]
  },
  {
   "cell_type": "code",
   "execution_count": 77,
   "id": "ac96c2e9",
   "metadata": {},
   "outputs": [],
   "source": [
    "logprob_1_vit, output_bases_1_vit = model.decode(test_sequence_np_1, algorithm=\"viterbi\")\n",
    "out_1_vit = \"%s\"%\" \".join([states[x][-1] for x in output_bases_1_vit])"
   ]
  },
  {
   "cell_type": "code",
   "execution_count": 78,
   "id": "caf6fc22",
   "metadata": {},
   "outputs": [],
   "source": [
    "logprob_2_vit, output_bases_2_vit = model.decode(test_sequence_np_2, algorithm=\"viterbi\")\n",
    "out_2_vit = \"%s\"%\" \".join([states[x][-1] for x in output_bases_2_vit])"
   ]
  },
  {
   "cell_type": "markdown",
   "id": "2cbbcb8e",
   "metadata": {},
   "source": [
    "Decode using Posterior Algorithm"
   ]
  },
  {
   "cell_type": "markdown",
   "id": "176f442c",
   "metadata": {},
   "source": [
    "Support for posterior estimation is denoted through the use of \"map\" based from the [HMMLearn documentation](https://hmmlearn.readthedocs.io/en/latest/tutorial.html#available-models) ."
   ]
  },
  {
   "cell_type": "code",
   "execution_count": 79,
   "id": "b8f5f216",
   "metadata": {},
   "outputs": [],
   "source": [
    "logprob_1_pos, output_bases_1_pos = model.decode(test_sequence_np_1, algorithm=\"map\")\n",
    "out_1_pos = \"%s\"%\" \".join([states[x][-1] for x in output_bases_1_pos])"
   ]
  },
  {
   "cell_type": "code",
   "execution_count": 80,
   "id": "45e52c56",
   "metadata": {},
   "outputs": [],
   "source": [
    "logprob_2_pos, output_bases_2_pos = model.decode(test_sequence_np_2, algorithm=\"map\")\n",
    "out_2_pos = \"%s\"%\" \".join([states[x][-1] for x in output_bases_2_pos])"
   ]
  },
  {
   "cell_type": "markdown",
   "id": "c339973f-30d2-4a82-8304-c950feec6904",
   "metadata": {},
   "source": [
    "Checkpoint"
   ]
  },
  {
   "cell_type": "code",
   "execution_count": 81,
   "id": "83c43016",
   "metadata": {},
   "outputs": [],
   "source": [
    "# Viterbi outputs\n",
    "with open (\"output_1_vit.txt\", \"w\") as f:\n",
    "    f.write(out_1_vit)\n",
    "with open (\"output_2_vit.txt\", \"w\") as f:\n",
    "    f.write(out_2_vit)"
   ]
  },
  {
   "cell_type": "code",
   "execution_count": 82,
   "id": "d9537445",
   "metadata": {},
   "outputs": [],
   "source": [
    "# Posterior outputs\n",
    "with open (\"output_1_pos.txt\", \"w\") as f:\n",
    "    f.write(out_1_pos)\n",
    "\n",
    "with open (\"output_2_pos.txt\", \"w\") as f:\n",
    "    f.write(out_2_pos)"
   ]
  },
  {
   "cell_type": "markdown",
   "id": "db00bd5c-ddd6-42d9-aa86-c2f0db3364d4",
   "metadata": {},
   "source": [
    "### HMM Evaluation"
   ]
  },
  {
   "cell_type": "markdown",
   "id": "4d4e9492-aa03-4a09-9dd9-18510d726abc",
   "metadata": {},
   "source": [
    "Read the CpG annotation of chr19"
   ]
  },
  {
   "cell_type": "code",
   "execution_count": 8,
   "id": "2e3b0838-d89c-4f5a-ae55-56069b2d277f",
   "metadata": {},
   "outputs": [],
   "source": [
    "_, _, cpg19_df = read_centro_telo('./chr19/centromeres.csv','./chr19/telomeres.csv', './chr19/cpg.csv')\n",
    "cpg_start_end = cpg19_df.sort_values('chromStart')[['chromStart', 'chromEnd']].to_numpy().flatten()"
   ]
  },
  {
   "cell_type": "markdown",
   "id": "463f3c0b",
   "metadata": {},
   "source": [
    "Extract start and end indices of the two test subsequences for chr19"
   ]
  },
  {
   "cell_type": "code",
   "execution_count": 9,
   "id": "a1880ff0",
   "metadata": {},
   "outputs": [],
   "source": [
    "def extract_header(filepath):\n",
    "    seq = next (SeqIO.parse(filepath, \"fasta\"))\n",
    "    header = seq.description\n",
    "    index_field = header.split(\"\\t\")[1]\n",
    "    range_index = index_field.split()[1]\n",
    "    start_index = int(range_index.split(\":\")[0])\n",
    "    end_index = int(range_index.split(\":\")[1])\n",
    "    # remove seq from memory\n",
    "    del seq\n",
    "    return start_index, end_index"
   ]
  },
  {
   "cell_type": "code",
   "execution_count": 10,
   "id": "dd24cb91-77b3-4499-8bba-9504326cafa5",
   "metadata": {},
   "outputs": [
    {
     "name": "stdout",
     "output_type": "stream",
     "text": [
      "Start index 1: 60000, End index 1: 24448980\n",
      "Start index 2: 27240874, End index 2: 58607616\n"
     ]
    }
   ],
   "source": [
    "# read fasta using seqio\n",
    "start_index_1, end_index_1 = extract_header(\"seq_test_1_withoutN.fasta\")\n",
    "print(f\"Start index 1: {start_index_1}, End index 1: {end_index_1}\")\n",
    "\n",
    "start_index_2, end_index_2 = extract_header(\"seq_test_2_withoutN.fasta\")\n",
    "print(f\"Start index 2: {start_index_2}, End index 2: {end_index_2}\")"
   ]
  },
  {
   "cell_type": "markdown",
   "id": "a77b4b5e",
   "metadata": {},
   "source": [
    "Function that annotates the two subsequences as ground truth data (+ for CpG island and - for non-CpG island)"
   ]
  },
  {
   "cell_type": "code",
   "execution_count": 11,
   "id": "dd9526a5-04a2-497a-bd76-1927cf48b37d",
   "metadata": {
    "scrolled": true
   },
   "outputs": [],
   "source": [
    "def get_ground_truth(start_index, end_index, cpg_start_end):\n",
    "    ground_truth = np.full(end_index - start_index, '')\n",
    "    starting_region = '-'\n",
    "\n",
    "    # determine if the start index is in a non-CpG or CpG island\n",
    "    for i, each in enumerate(cpg_start_end):\n",
    "        if start_index < each:\n",
    "            if i % 2:\n",
    "                starting_region = '+'\n",
    "            break\n",
    "            \n",
    "    # [starting_region, opposite]\n",
    "    annot = [starting_region, '-' if starting_region == '+' else '+']\n",
    "    \n",
    "    # generate the ground truth\n",
    "    curr_index = 0\n",
    "    for j, k in enumerate(cpg_start_end[i:]):\n",
    "        if j == 0:\n",
    "            ground_truth[:each-start_index] = starting_region\n",
    "            curr_index += each-start_index\n",
    "        elif k > end_index:\n",
    "            ground_truth[curr_index : curr_index + end_index - cpg_start_end[j-1]] = annot[j % 2]\n",
    "            break\n",
    "        else:\n",
    "            ground_truth[curr_index : curr_index + k - cpg_start_end[j-1]] = annot[j % 2]            \n",
    "            curr_index += k-cpg_start_end[j-1]\n",
    "    return ground_truth, annot"
   ]
  },
  {
   "cell_type": "markdown",
   "id": "1e0f2800-6801-4b66-9c84-237cf37a0d7f",
   "metadata": {},
   "source": [
    "Function that computes the performance metrics of HMM and displays it"
   ]
  },
  {
   "cell_type": "code",
   "execution_count": 12,
   "id": "7186e5e3-3f62-4e7f-b7d0-025438e57b1e",
   "metadata": {},
   "outputs": [],
   "source": [
    "def get_performance_metrics(confusion_mat):\n",
    "    TN, FP = confusion_mat[0]\n",
    "    FN, TP = confusion_mat[1]\n",
    "    \n",
    "    precision = TP / (TP + FP) if (TP + FP) != 0 else 0\n",
    "    recall = TP / (TP + FN) if (TP + FN) != 0 else 0\n",
    "    accuracy = (TP + TN) / (TP + TN + FP + FN)\n",
    "    \n",
    "    print(f\"Precision: {precision:.2f}\")\n",
    "    print(f\"Recall: {recall:.2f}\")\n",
    "    print(f\"Accuracy: {accuracy:.2f}\")"
   ]
  },
  {
   "cell_type": "code",
   "execution_count": 13,
   "id": "7c1eecfc",
   "metadata": {},
   "outputs": [],
   "source": [
    "ground_truth_1, annot_1 = get_ground_truth(start_index_1, end_index_1, cpg_start_end)\n",
    "ground_truth_2, annot_2 = get_ground_truth(start_index_2, end_index_2, cpg_start_end)\n",
    "ground_truth = np.concatenate((ground_truth_1, ground_truth_2))"
   ]
  },
  {
   "cell_type": "markdown",
   "id": "58cb1f68",
   "metadata": {},
   "source": [
    "#### Viterbi Algorithm"
   ]
  },
  {
   "cell_type": "markdown",
   "id": "c41e7388-cb31-4b3a-9109-b35b22c32a0b",
   "metadata": {},
   "source": [
    "Read the outputs of HMM model to the selected stretches of chr19 using Viterbi"
   ]
  },
  {
   "cell_type": "code",
   "execution_count": 14,
   "id": "ef09cce7-250c-4a5f-8260-b03b4f464caf",
   "metadata": {},
   "outputs": [],
   "source": [
    "output_1_vit = np.loadtxt(\"output_1_vit.txt\", delimiter=\" \", dtype=str)\n",
    "output_2_vit = np.loadtxt(\"output_2_vit.txt\", delimiter=\" \", dtype=str)\n",
    "output_vit = np.concatenate((output_1_vit, output_2_vit))"
   ]
  },
  {
   "cell_type": "markdown",
   "id": "454a4fd6",
   "metadata": {},
   "source": [
    "Obtain and plot confusion matrices, one for each subsequence, and one combined."
   ]
  },
  {
   "cell_type": "code",
   "execution_count": 12,
   "id": "5cf25355",
   "metadata": {},
   "outputs": [
    {
     "data": {
      "image/png": "[encoded data removed]",
      "text/plain": [
       "<Figure size 640x480 with 2 Axes>"
      ]
     },
     "metadata": {},
     "output_type": "display_data"
    }
   ],
   "source": [
    "confusion_mat_1_vit = confusion_matrix(ground_truth_1, output_1_vit, labels=annot_1)\n",
    "disp_1_vit = ConfusionMatrixDisplay(confusion_matrix=confusion_mat_1_vit, display_labels=annot_1)\n",
    "disp_1_vit.plot()\n",
    "plt.show()"
   ]
  },
  {
   "cell_type": "code",
   "execution_count": 13,
   "id": "bb55c0bf",
   "metadata": {},
   "outputs": [
    {
     "data": {
      "image/png": "[encoded data removed]",
      "text/plain": [
       "<Figure size 640x480 with 2 Axes>"
      ]
     },
     "metadata": {},
     "output_type": "display_data"
    }
   ],
   "source": [
    "confusion_mat_2_vit = confusion_matrix(ground_truth_2, output_2_vit, labels=annot_2)\n",
    "disp_2_vit = ConfusionMatrixDisplay(confusion_matrix=confusion_mat_2_vit, display_labels=annot_2)\n",
    "disp_2_vit.plot()\n",
    "plt.show()"
   ]
  },
  {
   "cell_type": "code",
   "execution_count": 14,
   "id": "e6e2d663",
   "metadata": {},
   "outputs": [
    {
     "data": {
      "image/png": "[encoded data removed]",
      "text/plain": [
       "<Figure size 640x480 with 2 Axes>"
      ]
     },
     "metadata": {},
     "output_type": "display_data"
    }
   ],
   "source": [
    "confusion_mat_vit = confusion_matrix(ground_truth, output_vit, labels=annot_1)\n",
    "disp_vit = ConfusionMatrixDisplay(confusion_matrix=confusion_mat_vit, display_labels=annot_1)\n",
    "disp_vit.plot()\n",
    "plt.show()"
   ]
  },
  {
   "cell_type": "code",
   "execution_count": 15,
   "id": "dac3c236-1514-46b0-b282-e80a9eefa923",
   "metadata": {},
   "outputs": [
    {
     "name": "stdout",
     "output_type": "stream",
     "text": [
      "Performance Metrics for Viterbi Outputs:\n",
      "Sequence 1:\n",
      "Precision: 0.07\n",
      "Recall: 0.99\n",
      "Accuracy: 0.54\n",
      "\n",
      "Sequence 2:\n",
      "Precision: 0.92\n",
      "Recall: 0.40\n",
      "Accuracy: 0.44\n",
      "\n",
      "Combined Performance Metrics:\n",
      "Precision: 0.50\n",
      "Recall: 0.42\n",
      "Accuracy: 0.48\n"
     ]
    }
   ],
   "source": [
    "print (\"Performance Metrics for Viterbi Outputs:\")\n",
    "print (\"Sequence 1:\")\n",
    "get_performance_metrics(confusion_mat_1_vit)\n",
    "print ()\n",
    "print (\"Sequence 2:\")\n",
    "get_performance_metrics(confusion_mat_2_vit)\n",
    "print ()\n",
    "print (\"Combined Performance Metrics:\")\n",
    "get_performance_metrics(confusion_mat_vit)"
   ]
  },
  {
   "cell_type": "markdown",
   "id": "984de59e",
   "metadata": {},
   "source": [
    "#### Posterior Algorithm"
   ]
  },
  {
   "cell_type": "markdown",
   "id": "8a41d277",
   "metadata": {},
   "source": [
    "Read the outputs of HMM model to the selected stretches of chr19 using Posterior"
   ]
  },
  {
   "cell_type": "code",
   "execution_count": 15,
   "id": "77d54585-e306-45c3-ad55-117b3bf0ee64",
   "metadata": {},
   "outputs": [],
   "source": [
    "output_1_pos = np.loadtxt(\"output_1_pos.txt\", delimiter=\" \", dtype=str)\n",
    "output_2_pos = np.loadtxt(\"output_2_pos.txt\", delimiter=\" \", dtype=str)"
   ]
  },
  {
   "cell_type": "markdown",
   "id": "e45283c2",
   "metadata": {},
   "source": [
    "Obtain and plot confusion matrices, one for each subsequence, and one combined."
   ]
  },
  {
   "cell_type": "code",
   "execution_count": 17,
   "id": "de0af46e",
   "metadata": {},
   "outputs": [
    {
     "data": {
      "image/png": "[encoded data removed]",
      "text/plain": [
       "<Figure size 640x480 with 2 Axes>"
      ]
     },
     "metadata": {},
     "output_type": "display_data"
    }
   ],
   "source": [
    "confusion_mat_1_pos = confusion_matrix(ground_truth_1, output_1_pos, labels=annot_1)\n",
    "disp_1_pos = ConfusionMatrixDisplay(confusion_matrix=confusion_mat_1_pos, display_labels=annot_1)\n",
    "disp_1_pos.plot()\n",
    "plt.show()"
   ]
  },
  {
   "cell_type": "code",
   "execution_count": 18,
   "id": "c2545b5d",
   "metadata": {},
   "outputs": [
    {
     "data": {
      "image/png": "[encoded data removed]",
      "text/plain": [
       "<Figure size 640x480 with 2 Axes>"
      ]
     },
     "metadata": {},
     "output_type": "display_data"
    }
   ],
   "source": [
    "confusion_mat_2_pos = confusion_matrix(ground_truth_2, output_2_pos, labels=annot_2)\n",
    "disp_2_pos = ConfusionMatrixDisplay(confusion_matrix=confusion_mat_2_pos, display_labels=annot_2)\n",
    "disp_2_pos.plot()\n",
    "plt.show()"
   ]
  },
  {
   "cell_type": "code",
   "execution_count": 19,
   "id": "14f36073",
   "metadata": {},
   "outputs": [
    {
     "data": {
      "image/png": "[encoded data removed]",
      "text/plain": [
       "<Figure size 640x480 with 2 Axes>"
      ]
     },
     "metadata": {},
     "output_type": "display_data"
    }
   ],
   "source": [
    "output_pos = np.concatenate((output_1_pos, output_2_pos))\n",
    "confusion_mat_pos = confusion_matrix(ground_truth, output_pos, labels=annot_1)\n",
    "disp_pos = ConfusionMatrixDisplay(confusion_matrix=confusion_mat_pos, display_labels=annot_1)\n",
    "disp_pos.plot()\n",
    "plt.show()"
   ]
  },
  {
   "cell_type": "code",
   "execution_count": 20,
   "id": "ad5f9591",
   "metadata": {},
   "outputs": [
    {
     "name": "stdout",
     "output_type": "stream",
     "text": [
      "Performance Metrics for Posterior Outputs:\n",
      "Sequence 1:\n",
      "Precision: 0.07\n",
      "Recall: 0.99\n",
      "Accuracy: 0.54\n",
      "\n",
      "Sequence 2:\n",
      "Precision: 0.92\n",
      "Recall: 0.41\n",
      "Accuracy: 0.45\n",
      "\n",
      "Combined Performance Metrics:\n",
      "Precision: 0.50\n",
      "Recall: 0.43\n",
      "Accuracy: 0.49\n"
     ]
    }
   ],
   "source": [
    "print (\"Performance Metrics for Posterior Outputs:\")\n",
    "print (\"Sequence 1:\")\n",
    "get_performance_metrics(confusion_mat_1_pos)\n",
    "print()\n",
    "print (\"Sequence 2:\")\n",
    "get_performance_metrics(confusion_mat_2_pos)\n",
    "print()\n",
    "print (\"Combined Performance Metrics:\")\n",
    "get_performance_metrics(confusion_mat_pos)"
   ]
  },
  {
   "cell_type": "markdown",
   "id": "2bcaa93f-47d0-42cf-aea7-876a9490bbba",
   "metadata": {},
   "source": [
    "#### CpG Length Distributions"
   ]
  },
  {
   "cell_type": "code",
   "execution_count": 16,
   "id": "a4bcf110-97f4-4973-904e-9d9ce9a6eae0",
   "metadata": {},
   "outputs": [],
   "source": [
    "def compute_cpg_len(output):\n",
    "    count = 0\n",
    "    island_len = []\n",
    "    in_cpg = False\n",
    "    for each in output:\n",
    "        if each == '+':\n",
    "            count += 1\n",
    "        elif count != 0:\n",
    "            island_len.append(count)\n",
    "            count = 0\n",
    "    return np.array(island_len)"
   ]
  },
  {
   "cell_type": "code",
   "execution_count": 17,
   "id": "9018339e-0a6f-423e-8d8c-035df8f39c36",
   "metadata": {},
   "outputs": [],
   "source": [
    "true_islands_len_1 = cpg19_df[(cpg19_df['chromStart'] > start_index_1) & (cpg19_df['chromEnd'] <= end_index_1)][['length']].to_numpy().flatten()\n",
    "true_islands_len_2 = cpg19_df[(cpg19_df['chromStart'] > start_index_2) & (cpg19_df['chromEnd'] <= end_index_2)][['length']].to_numpy().flatten()\n",
    "vit_islands_len_1 = compute_cpg_len(output_1_vit)\n",
    "pos_islands_len_1 = compute_cpg_len(output_1_pos)\n",
    "vit_islands_len_2 = compute_cpg_len(output_2_vit)\n",
    "pos_islands_len_2 = compute_cpg_len(output_2_pos)"
   ]
  },
  {
   "cell_type": "code",
   "execution_count": 18,
   "id": "14671677-1dec-42b4-8940-72b37dbfb2d4",
   "metadata": {},
   "outputs": [],
   "source": [
    "true_islands_len = np.concatenate((true_islands_len_1, true_islands_len_2))\n",
    "vit_islands_len = np.concatenate((vit_islands_len_1, vit_islands_len_2))\n",
    "pos_islands_len = np.concatenate((pos_islands_len_1, pos_islands_len_2))"
   ]
  },
  {
   "cell_type": "code",
   "execution_count": 19,
   "id": "2b0210ce-1076-42db-a91a-7076b6078de7",
   "metadata": {},
   "outputs": [
    {
     "data": {
      "image/png": "[encoded data removed]",
      "text/plain": [
       "<Figure size 640x480 with 1 Axes>"
      ]
     },
     "metadata": {},
     "output_type": "display_data"
    }
   ],
   "source": [
    "islands_lens = [true_islands_len, vit_islands_len, pos_islands_len]\n",
    "plt.boxplot(islands_lens)\n",
    "plt.title('CpG Island Length Distribution')\n",
    "plt.xticks([1, 2, 3], ['Ground Truth', 'Viterbi', 'Posterior'])  # Labeling x-axis\n",
    "plt.grid(True)\n",
    "plt.show()"
   ]
  },
  {
   "cell_type": "code",
   "execution_count": 48,
   "id": "a0a440cf-620b-4665-99c3-21629d8ed804",
   "metadata": {},
   "outputs": [
    {
     "name": "stdout",
     "output_type": "stream",
     "text": [
      "Ground Truth Max CpG Length: 7814\n",
      "Viterbi Max CpG Length: 44801\n",
      "Posterior Max CpG Length: 44805\n"
     ]
    }
   ],
   "source": [
    "print(f\"Ground Truth Max CpG Length: {max(true_islands_len)}\")\n",
    "print(f\"Viterbi Max CpG Length: {max(vit_islands_len)}\")\n",
    "print(f\"Posterior Max CpG Length: {max(pos_islands_len)}\")"
   ]
  },
  {
   "cell_type": "code",
   "execution_count": 20,
   "id": "d1c8da77-233d-4a27-adc2-6f90f6760b74",
   "metadata": {},
   "outputs": [
    {
     "data": {
      "image/png": "[encoded data removed]",
      "text/plain": [
       "<Figure size 640x480 with 1 Axes>"
      ]
     },
     "metadata": {},
     "output_type": "display_data"
    }
   ],
   "source": [
    "islands_lens = [true_islands_len, vit_islands_len, pos_islands_len]\n",
    "plt.boxplot(islands_lens)\n",
    "plt.title('CpG Island Length Distribution')\n",
    "plt.xticks([1, 2, 3], ['Ground Truth', 'Viterbi', 'Posterior'])  # Labeling x-axis\n",
    "plt.grid(True)\n",
    "plt.ylim(0, 2000)\n",
    "plt.show()"
   ]
  },
  {
   "cell_type": "code",
   "execution_count": 47,
   "id": "69006b9a-2c43-4e32-b12b-4e62cf9905c3",
   "metadata": {},
   "outputs": [
    {
     "data": {
      "image/png": "[encoded data removed]",
      "text/plain": [
       "<Figure size 640x480 with 1 Axes>"
      ]
     },
     "metadata": {},
     "output_type": "display_data"
    }
   ],
   "source": [
    "bins = numpy.linspace(0, 1_000, 500)\n",
    "plt.hist(true_islands_len, bins, alpha=1, label='Ground Truth', color='black')\n",
    "plt.hist(vit_islands_len, bins, alpha=0.3, label='Viterbi')\n",
    "plt.hist(pos_islands_len, bins, alpha=0.3, label='Posterior')\n",
    "plt.legend(loc='upper right')\n",
    "plt.title('CpG Island Length Distribution')\n",
    "plt.show()"
   ]
  },
  {
   "cell_type": "markdown",
   "id": "ebfb80b4-3c31-4e46-bcb2-a826e06190f2",
   "metadata": {},
   "source": [
    "### Gene Annotation"
   ]
  },
  {
   "cell_type": "code",
   "execution_count": 93,
   "id": "a954a710-a4fc-4656-a2be-aeb8b3b72687",
   "metadata": {},
   "outputs": [],
   "source": [
    "gene_loc_df = pd.read_csv('gene_chr19.csv')"
   ]
  },
  {
   "cell_type": "code",
   "execution_count": 95,
   "id": "7de2ae8d-4284-485f-be9b-5c54ed135552",
   "metadata": {},
   "outputs": [],
   "source": [
    "coverage = 0\n",
    "with open(\"chr19_promoter.bed\", \"a\") as f:\n",
    "    for i, row in gene_loc_df.iterrows():\n",
    "        coverage += 1_000\n",
    "        f.write(f\"chr19\\t{gene_loc_df['txStart'] - 1000}\\t{row[\"txStart\"]}\\n\")\n",
    "with open(\"t.genome\", \"a\") as f:\n",
    "    f.write(f'chr19\\t{coverage}')"
   ]
  },
  {
   "cell_type": "code",
   "execution_count": 96,
   "id": "88e33653-33bd-4cc6-8091-1f70fbb7d21c",
   "metadata": {},
   "outputs": [],
   "source": [
    "with open(\"chr19_cpg.bed\", \"a\") as f:\n",
    "    for i, row in cpg19_df.iterrows():\n",
    "        f.write(f\"chr19\\t{row[\"chromStart\"]}\\t{row[\"chromEnd\"]}\\n\")"
   ]
  },
  {
   "cell_type": "code",
   "execution_count": null,
   "id": "4fc695f2-27c9-4898-8825-16a9d581c3c0",
   "metadata": {},
   "outputs": [],
   "source": []
  }
 ],
 "metadata": {
  "kernelspec": {
   "display_name": "Python 3 (ipykernel)",
   "language": "python",
   "name": "python3"
  },
  "language_info": {
   "codemirror_mode": {
    "name": "ipython",
    "version": 3
   },
   "file_extension": ".py",
   "mimetype": "text/x-python",
   "name": "python",
   "nbconvert_exporter": "python",
   "pygments_lexer": "ipython3",
   "version": "3.12.7"
  }
 },
 "nbformat": 4,
 "nbformat_minor": 5
}
